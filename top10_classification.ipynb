{
 "cells": [
  {
   "cell_type": "code",
   "execution_count": 1,
   "metadata": {
    "colab": {
     "base_uri": "https://localhost:8080/",
     "height": 34
    },
    "colab_type": "code",
    "id": "EqLtXwPchzZf",
    "outputId": "6d590203-8c02-4e96-ec23-d7d9cdb1d92f"
   },
   "outputs": [
    {
     "name": "stdout",
     "output_type": "stream",
     "text": [
      "INFO:tensorflow:Enabling eager execution\n",
      "INFO:tensorflow:Enabling v2 tensorshape\n",
      "INFO:tensorflow:Enabling resource variables\n",
      "INFO:tensorflow:Enabling tensor equality\n",
      "INFO:tensorflow:Enabling control flow v2\n"
     ]
    }
   ],
   "source": [
    "%matplotlib inline\n",
    "\n",
    "import os\n",
    "import gc\n",
    "\n",
    "import numpy as np\n",
    "import pandas as pd\n",
    "import matplotlib.pyplot as plt\n",
    "import seaborn as sns\n",
    "\n",
    "from collections import Counter\n",
    "from prettytable import PrettyTable\n",
    "from IPython.display import Image\n",
    "\n",
    "from sklearn.preprocessing import LabelEncoder\n",
    "\n",
    "from keras.models import Model\n",
    "from keras.regularizers import l2\n",
    "from keras.constraints import max_norm\n",
    "#from keras.utils import to_categorical\n",
    "from tensorflow.python.keras.utils.np_utils import to_categorical\n",
    "from keras.preprocessing.text import Tokenizer\n",
    "from keras.preprocessing.sequence import pad_sequences\n",
    "from keras.callbacks import EarlyStopping\n",
    "from keras.layers import Input, Dense, Dropout, Flatten, Activation\n",
    "from keras.layers import Conv1D, Add, MaxPooling1D, BatchNormalization\n",
    "from keras.layers import Embedding, Bidirectional,  GlobalMaxPooling1D, LSTM\n",
    "#from tensorflow.compat.v1.keras.layers import LSTM"
   ]
  },
  {
   "cell_type": "code",
   "execution_count": 2,
   "metadata": {
    "colab": {},
    "colab_type": "code",
    "id": "a_k-q8gv_J2_"
   },
   "outputs": [],
   "source": [
    "import tensorflow as tf\n",
    "tf.compat.v1.logging.set_verbosity(tf.compat.v1.logging.ERROR)"
   ]
  },
  {
   "cell_type": "code",
   "execution_count": 3,
   "metadata": {
    "colab": {},
    "colab_type": "code",
    "id": "L4wU9AP3jYWU"
   },
   "outputs": [],
   "source": [
    "#from google.colab import drive\n",
    "#drive.mount('/content/drive')"
   ]
  },
  {
   "cell_type": "markdown",
   "metadata": {
    "colab_type": "text",
    "id": "GCPrxSoI5jQZ"
   },
   "source": [
    "### Loading Data"
   ]
  },
  {
   "cell_type": "code",
   "execution_count": 4,
   "metadata": {
    "colab": {
     "base_uri": "https://localhost:8080/",
     "height": 34
    },
    "colab_type": "code",
    "id": "Is-kuTuGzYGN",
    "outputId": "270d71b8-6772-4a6a-b7b1-0cdbdee0353e"
   },
   "outputs": [
    {
     "name": "stdout",
     "output_type": "stream",
     "text": [
      "Available data ['dev', 'test', 'train']\n"
     ]
    }
   ],
   "source": [
    "data_path = 'D:/googledownload/random_split'\n",
    "print('Available data', os.listdir(data_path))"
   ]
  },
  {
   "cell_type": "code",
   "execution_count": 5,
   "metadata": {
    "colab": {},
    "colab_type": "code",
    "id": "4NrlxI8tiIww"
   },
   "outputs": [],
   "source": [
    "# https://www.kaggle.com/drewbryant/starter-pfam-seed-random-split\n",
    "\n",
    "# data is randomly splitted in three folders [train(80%), test(10%), dev(10%)]\n",
    "# reading and concatinating data for each folder.\n",
    "\n",
    "def read_data(partition):\n",
    "    data = []\n",
    "    for fn in os.listdir(os.path.join(data_path, partition)):\n",
    "        with open(os.path.join(data_path, partition, fn)) as f:\n",
    "            data.append(pd.read_csv(f, index_col=None))\n",
    "    return pd.concat(data)"
   ]
  },
  {
   "cell_type": "code",
   "execution_count": 6,
   "metadata": {
    "colab": {},
    "colab_type": "code",
    "id": "Xy25Vu-K3MvW"
   },
   "outputs": [],
   "source": [
    "# reading all data_partitions\n",
    "\n",
    "df_train = read_data('train')\n",
    "df_val = read_data('dev')\n",
    "df_test = read_data('test')"
   ]
  },
  {
   "cell_type": "code",
   "execution_count": 15,
   "metadata": {},
   "outputs": [],
   "source": [
    "df_val = df_val[(df_val['family_id']==\"SRP54_N\")|(df_val['family_id']== \"WD40\")|\n",
    "       (df_val['family_id']== \"OTCace_N\")|(df_val['family_id']== \"PEP-utilizers\")|\n",
    "       (df_val['family_id']== \"Glycos_trans_3N\")|(df_val['family_id']== \"THF_DHG_CYH\")|\n",
    "       (df_val['family_id']== \"Prenyltransf\")|(df_val['family_id']== \"HTH_1\")|\n",
    "       (df_val['family_id']== \"Maf\")|(df_val['family_id']== \"DHH\")]\n",
    "df_val.to_csv('D:/googledownload/random_split/val.csv')"
   ]
  },
  {
   "cell_type": "code",
   "execution_count": 16,
   "metadata": {},
   "outputs": [],
   "source": [
    "df_train = df_train[(df_train['family_id']==\"SRP54_N\")|(df_train['family_id']== \"WD40\")|\n",
    "       (df_train['family_id']== \"OTCace_N\")|(df_train['family_id']== \"PEP-utilizers\")|\n",
    "       (df_train['family_id']== \"Glycos_trans_3N\")|(df_train['family_id']== \"THF_DHG_CYH\")|\n",
    "       (df_train['family_id']== \"Prenyltransf\")|(df_train['family_id']== \"HTH_1\")|\n",
    "       (df_train['family_id']== \"Maf\")|(df_train['family_id']== \"DHH\")]\n",
    "df_train.to_csv('D:/googledownload/random_split/train.csv')"
   ]
  },
  {
   "cell_type": "code",
   "execution_count": 17,
   "metadata": {},
   "outputs": [],
   "source": [
    "df_test = df_test[(df_test['family_id']==\"SRP54_N\")|(df_test['family_id']== \"WD40\")|\n",
    "       (df_test['family_id']== \"OTCace_N\")|(df_test['family_id']== \"PEP-utilizers\")|\n",
    "       (df_test['family_id']== \"Glycos_trans_3N\")|(df_test['family_id']== \"THF_DHG_CYH\")|\n",
    "       (df_test['family_id']== \"Prenyltransf\")|(df_test['family_id']== \"HTH_1\")|\n",
    "       (df_test['family_id']== \"Maf\")|(df_test['family_id']== \"DHH\")]\n",
    "df_test.to_csv('D:/googledownload/random_split/test.csv')"
   ]
  },
  {
   "cell_type": "markdown",
   "metadata": {
    "colab_type": "text",
    "id": "lqRU2FBxezKq"
   },
   "source": [
    "### Basic Statistics"
   ]
  },
  {
   "cell_type": "code",
   "execution_count": 18,
   "metadata": {
    "colab": {
     "base_uri": "https://localhost:8080/",
     "height": 185
    },
    "colab_type": "code",
    "id": "pj2uvMN6pw7Y",
    "outputId": "e9850a9f-44da-4804-940c-0dce9d7998d0"
   },
   "outputs": [
    {
     "name": "stdout",
     "output_type": "stream",
     "text": [
      "<class 'pandas.core.frame.DataFrame'>\n",
      "Int64Index: 11213 entries, 57 to 13484\n",
      "Data columns (total 5 columns):\n",
      " #   Column            Non-Null Count  Dtype \n",
      "---  ------            --------------  ----- \n",
      " 0   family_id         11213 non-null  object\n",
      " 1   sequence_name     11213 non-null  object\n",
      " 2   family_accession  11213 non-null  object\n",
      " 3   aligned_sequence  11213 non-null  object\n",
      " 4   sequence          11213 non-null  object\n",
      "dtypes: object(5)\n",
      "memory usage: 525.6+ KB\n"
     ]
    }
   ],
   "source": [
    "df_train.info()"
   ]
  },
  {
   "cell_type": "code",
   "execution_count": 19,
   "metadata": {
    "colab": {
     "base_uri": "https://localhost:8080/",
     "height": 195
    },
    "colab_type": "code",
    "id": "fvvyiT4PTlew",
    "outputId": "e5d8d420-9d92-43bf-99a2-6f5408e5d398"
   },
   "outputs": [
    {
     "data": {
      "text/html": [
       "<div>\n",
       "<style scoped>\n",
       "    .dataframe tbody tr th:only-of-type {\n",
       "        vertical-align: middle;\n",
       "    }\n",
       "\n",
       "    .dataframe tbody tr th {\n",
       "        vertical-align: top;\n",
       "    }\n",
       "\n",
       "    .dataframe thead th {\n",
       "        text-align: right;\n",
       "    }\n",
       "</style>\n",
       "<table border=\"1\" class=\"dataframe\">\n",
       "  <thead>\n",
       "    <tr style=\"text-align: right;\">\n",
       "      <th></th>\n",
       "      <th>family_id</th>\n",
       "      <th>sequence_name</th>\n",
       "      <th>family_accession</th>\n",
       "      <th>aligned_sequence</th>\n",
       "      <th>sequence</th>\n",
       "    </tr>\n",
       "  </thead>\n",
       "  <tbody>\n",
       "    <tr>\n",
       "      <th>57</th>\n",
       "      <td>WD40</td>\n",
       "      <td>O48679_ARATH/318-354</td>\n",
       "      <td>PF00400.32</td>\n",
       "      <td>MSVVGA..L....R.....GH....RKA.............I...M...</td>\n",
       "      <td>MSVVGALRGHRKAIMCLAVASDLVLSGSADKSLRVWR</td>\n",
       "    </tr>\n",
       "    <tr>\n",
       "      <th>103</th>\n",
       "      <td>Glycos_trans_3N</td>\n",
       "      <td>A0A068Y394_ECHMU/7-69</td>\n",
       "      <td>PF02885.17</td>\n",
       "      <td>SGILSKKANG....G..SLSSTEIDYYTKEL..AE.DN...........</td>\n",
       "      <td>SGILSKKANGGSLSSTEIDYYTKELAEDNVNIAQIGAFLMAVFTRG...</td>\n",
       "    </tr>\n",
       "    <tr>\n",
       "      <th>172</th>\n",
       "      <td>Prenyltransf</td>\n",
       "      <td>G0WF45_NAUDC/72-290</td>\n",
       "      <td>PF01255.19</td>\n",
       "      <td>IMDGNRRYAK..SR....NLPLKK.GHEAGGI....TLLT.....L...</td>\n",
       "      <td>IMDGNRRYAKSRNLPLKKGHEAGGITLLTLVYICKKIGVKCVSAYA...</td>\n",
       "    </tr>\n",
       "    <tr>\n",
       "      <th>254</th>\n",
       "      <td>SRP54_N</td>\n",
       "      <td>J3VT48_9ENTR/186-249</td>\n",
       "      <td>PF02881.19</td>\n",
       "      <td>LGSGLIKLF.LG....K.K...I....DNNL.FEA....LEEQLLV...</td>\n",
       "      <td>LGSGLIKLFLGKKIDNNLFEALEEQLLVADVGIQTTRKIIDGLIAH...</td>\n",
       "    </tr>\n",
       "    <tr>\n",
       "      <th>460</th>\n",
       "      <td>Prenyltransf</td>\n",
       "      <td>F4AZ12_DOKS4/19-239</td>\n",
       "      <td>PF01255.19</td>\n",
       "      <td>IMDGNGRWAK..KQ....G.LLRAVGHKKGSK....AVRE.....A...</td>\n",
       "      <td>IMDGNGRWAKKQGLLRAVGHKKGSKAVREAVEAAAELGVPYLTLYA...</td>\n",
       "    </tr>\n",
       "  </tbody>\n",
       "</table>\n",
       "</div>"
      ],
      "text/plain": [
       "           family_id          sequence_name family_accession  \\\n",
       "57              WD40   O48679_ARATH/318-354       PF00400.32   \n",
       "103  Glycos_trans_3N  A0A068Y394_ECHMU/7-69       PF02885.17   \n",
       "172     Prenyltransf    G0WF45_NAUDC/72-290       PF01255.19   \n",
       "254          SRP54_N   J3VT48_9ENTR/186-249       PF02881.19   \n",
       "460     Prenyltransf    F4AZ12_DOKS4/19-239       PF01255.19   \n",
       "\n",
       "                                      aligned_sequence  \\\n",
       "57   MSVVGA..L....R.....GH....RKA.............I...M...   \n",
       "103  SGILSKKANG....G..SLSSTEIDYYTKEL..AE.DN...........   \n",
       "172  IMDGNRRYAK..SR....NLPLKK.GHEAGGI....TLLT.....L...   \n",
       "254  LGSGLIKLF.LG....K.K...I....DNNL.FEA....LEEQLLV...   \n",
       "460  IMDGNGRWAK..KQ....G.LLRAVGHKKGSK....AVRE.....A...   \n",
       "\n",
       "                                              sequence  \n",
       "57               MSVVGALRGHRKAIMCLAVASDLVLSGSADKSLRVWR  \n",
       "103  SGILSKKANGGSLSSTEIDYYTKELAEDNVNIAQIGAFLMAVFTRG...  \n",
       "172  IMDGNRRYAKSRNLPLKKGHEAGGITLLTLVYICKKIGVKCVSAYA...  \n",
       "254  LGSGLIKLFLGKKIDNNLFEALEEQLLVADVGIQTTRKIIDGLIAH...  \n",
       "460  IMDGNGRWAKKQGLLRAVGHKKGSKAVREAVEAAAELGVPYLTLYA...  "
      ]
     },
     "execution_count": 19,
     "metadata": {},
     "output_type": "execute_result"
    }
   ],
   "source": [
    "df_train.head()"
   ]
  },
  {
   "cell_type": "code",
   "execution_count": 20,
   "metadata": {
    "colab": {
     "base_uri": "https://localhost:8080/",
     "height": 34
    },
    "colab_type": "code",
    "id": "FZD6gGJLd7uB",
    "outputId": "bf474ea4-43a3-4e4e-d154-350b18cef59f"
   },
   "outputs": [
    {
     "data": {
      "text/plain": [
       "'MSVVGALRGHRKAIMCLAVASDLVLSGSADKSLRVWR'"
      ]
     },
     "execution_count": 20,
     "metadata": {},
     "output_type": "execute_result"
    }
   ],
   "source": [
    "# ex: unaligned sequence\n",
    "# each character reperesents one of the 24(20 common + 4 uncommon) amino acids in the sequence.\n",
    "\n",
    "df_train.head(1)['sequence'].values[0]"
   ]
  },
  {
   "cell_type": "code",
   "execution_count": 21,
   "metadata": {
    "colab": {
     "base_uri": "https://localhost:8080/",
     "height": 67
    },
    "colab_type": "code",
    "id": "lYmykaXe3aKy",
    "outputId": "6df755e5-a1ca-4c71-e3eb-bbd939264790"
   },
   "outputs": [
    {
     "name": "stdout",
     "output_type": "stream",
     "text": [
      "Train size:  11213\n",
      "Val size:  1397\n",
      "Test size:  1397\n"
     ]
    }
   ],
   "source": [
    "# Given data size\n",
    "print('Train size: ', len(df_train))\n",
    "print('Val size: ', len(df_val))\n",
    "print('Test size: ', len(df_test))"
   ]
  },
  {
   "cell_type": "code",
   "execution_count": 22,
   "metadata": {
    "colab": {},
    "colab_type": "code",
    "id": "hmjg-CbQyioF"
   },
   "outputs": [],
   "source": [
    "def calc_unique_cls(train, test, val):\n",
    "    \"\"\"\n",
    "    Prints # unique classes in data sets.\n",
    "    \"\"\"\n",
    "    train_unq = np.unique(train['family_accession'].values)\n",
    "    val_unq = np.unique(val['family_accession'].values)\n",
    "    test_unq = np.unique(test['family_accession'].values)\n",
    "\n",
    "    print('Number of unique classes in Train: ', len(train_unq))\n",
    "    print('Number of unique classes in Val: ', len(val_unq))\n",
    "    print('Number of unique classes in Test: ', len(test_unq))"
   ]
  },
  {
   "cell_type": "code",
   "execution_count": 23,
   "metadata": {
    "colab": {
     "base_uri": "https://localhost:8080/",
     "height": 67
    },
    "colab_type": "code",
    "id": "-2r0wIsBiy-c",
    "outputId": "a13676ba-448c-467e-a2ec-42b81b1a83d3"
   },
   "outputs": [
    {
     "name": "stdout",
     "output_type": "stream",
     "text": [
      "Number of unique classes in Train:  10\n",
      "Number of unique classes in Val:  10\n",
      "Number of unique classes in Test:  10\n"
     ]
    }
   ],
   "source": [
    "# Unique classes in the given dataset : [df_train, df_val and df_test]\n",
    "\n",
    "calc_unique_cls(df_train, df_test, df_val)"
   ]
  },
  {
   "cell_type": "markdown",
   "metadata": {
    "colab_type": "text",
    "id": "7XvpRxecd_B1"
   },
   "source": [
    "### Sequence Counts"
   ]
  },
  {
   "cell_type": "code",
   "execution_count": 24,
   "metadata": {
    "colab": {},
    "colab_type": "code",
    "id": "ViaJx_Peu5y_"
   },
   "outputs": [],
   "source": [
    "# Length of sequence in train data.\n",
    "df_train['seq_char_count']= df_train['sequence'].apply(lambda x: len(x))\n",
    "df_val['seq_char_count']= df_val['sequence'].apply(lambda x: len(x))\n",
    "df_test['seq_char_count']= df_test['sequence'].apply(lambda x: len(x))"
   ]
  },
  {
   "cell_type": "code",
   "execution_count": 25,
   "metadata": {
    "colab": {},
    "colab_type": "code",
    "id": "ATEmEmeAYoeB"
   },
   "outputs": [],
   "source": [
    "def plot_seq_count(df, data_name):\n",
    "    sns.distplot(df['seq_char_count'].values)\n",
    "    plt.title(f'Sequence char count: {data_name}')\n",
    "    plt.grid(True)"
   ]
  },
  {
   "cell_type": "code",
   "execution_count": 26,
   "metadata": {
    "colab": {
     "base_uri": "https://localhost:8080/",
     "height": 282
    },
    "colab_type": "code",
    "id": "G1Mo0m3yFAFu",
    "outputId": "43fff7b5-7292-40c1-e8a5-cec23b7065ad"
   },
   "outputs": [
    {
     "name": "stderr",
     "output_type": "stream",
     "text": [
      "C:\\ProgramData\\Anaconda3\\lib\\site-packages\\seaborn\\distributions.py:2551: FutureWarning: `distplot` is a deprecated function and will be removed in a future version. Please adapt your code to use either `displot` (a figure-level function with similar flexibility) or `histplot` (an axes-level function for histograms).\n",
      "  warnings.warn(msg, FutureWarning)\n",
      "C:\\ProgramData\\Anaconda3\\lib\\site-packages\\seaborn\\distributions.py:2551: FutureWarning: `distplot` is a deprecated function and will be removed in a future version. Please adapt your code to use either `displot` (a figure-level function with similar flexibility) or `histplot` (an axes-level function for histograms).\n",
      "  warnings.warn(msg, FutureWarning)\n",
      "C:\\ProgramData\\Anaconda3\\lib\\site-packages\\seaborn\\distributions.py:2551: FutureWarning: `distplot` is a deprecated function and will be removed in a future version. Please adapt your code to use either `displot` (a figure-level function with similar flexibility) or `histplot` (an axes-level function for histograms).\n",
      "  warnings.warn(msg, FutureWarning)\n"
     ]
    },
    {
     "data": {
      "image/png": "[encoded data removed]",
      "text/plain": [
       "<Figure size 432x288 with 3 Axes>"
      ]
     },
     "metadata": {
      "needs_background": "light"
     },
     "output_type": "display_data"
    }
   ],
   "source": [
    "plt.subplot(1, 3, 1)\n",
    "plot_seq_count(df_train, 'Train')\n",
    "\n",
    "plt.subplot(1, 3, 2)\n",
    "plot_seq_count(df_val, 'Val')\n",
    "\n",
    "plt.subplot(1, 3, 3)\n",
    "plot_seq_count(df_test, 'Test')\n",
    "\n",
    "plt.subplots_adjust(right=3.0)\n",
    "plt.show()"
   ]
  },
  {
   "cell_type": "markdown",
   "metadata": {
    "colab_type": "text",
    "id": "-ZIi2DB6bLpc"
   },
   "source": [
    "__Observation__\n",
    "- Most of the unaligned amino acid sequences have character counts in the range of 50-250."
   ]
  },
  {
   "cell_type": "markdown",
   "metadata": {
    "colab_type": "text",
    "id": "LFxzvA1oeJGm"
   },
   "source": [
    "### Sequence Code Frequency"
   ]
  },
  {
   "cell_type": "markdown",
   "metadata": {},
   "source": [
    "Amino acid sequences are represented with their corresponding 1 letter code, for example, code for alanine is (A), arginine is (R) and so on. The complete list of amino acids with there code can be found <a href='http://www.cryst.bbk.ac.uk/education/AminoAcid/the_twenty.html'>here</a>."
   ]
  },
  {
   "cell_type": "code",
   "execution_count": 48,
   "metadata": {
    "colab": {},
    "colab_type": "code",
    "id": "Mm54TAoH_C8t"
   },
   "outputs": [],
   "source": [
    "def get_code_freq(df, data_name):\n",
    "  \n",
    "    df = df.apply(lambda x: \" \".join(x))\n",
    "  \n",
    "    codes = []\n",
    "    for i in df: # concatination of all codes\n",
    "        codes.extend(i)\n",
    "\n",
    "    codes_dict= Counter(codes)\n",
    "    codes_dict.pop(' ') # removing white space\n",
    "  \n",
    "    print(f'Codes: {data_name}')\n",
    "    print(f'Total unique codes: {len(codes_dict.keys())}')\n",
    "\n",
    "    df = pd.DataFrame({'Code': list(codes_dict.keys()), 'Freq': list(codes_dict.values())})\n",
    "    return df.sort_values('Freq', ascending=False).reset_index()[['Code', 'Freq']]"
   ]
  },
  {
   "cell_type": "code",
   "execution_count": 49,
   "metadata": {
    "colab": {
     "base_uri": "https://localhost:8080/",
     "height": 821
    },
    "colab_type": "code",
    "id": "lekmtCh9KXrY",
    "outputId": "c2bcd5c7-0cb4-448e-cb28-ec8786f81fbc"
   },
   "outputs": [
    {
     "name": "stdout",
     "output_type": "stream",
     "text": [
      "Codes: Train\n",
      "Total unique codes: 21\n"
     ]
    },
    {
     "data": {
      "text/html": [
       "<div>\n",
       "<style scoped>\n",
       "    .dataframe tbody tr th:only-of-type {\n",
       "        vertical-align: middle;\n",
       "    }\n",
       "\n",
       "    .dataframe tbody tr th {\n",
       "        vertical-align: top;\n",
       "    }\n",
       "\n",
       "    .dataframe thead th {\n",
       "        text-align: right;\n",
       "    }\n",
       "</style>\n",
       "<table border=\"1\" class=\"dataframe\">\n",
       "  <thead>\n",
       "    <tr style=\"text-align: right;\">\n",
       "      <th></th>\n",
       "      <th>Code</th>\n",
       "      <th>Freq</th>\n",
       "    </tr>\n",
       "  </thead>\n",
       "  <tbody>\n",
       "    <tr>\n",
       "      <th>0</th>\n",
       "      <td>L</td>\n",
       "      <td>135244</td>\n",
       "    </tr>\n",
       "    <tr>\n",
       "      <th>1</th>\n",
       "      <td>A</td>\n",
       "      <td>119767</td>\n",
       "    </tr>\n",
       "    <tr>\n",
       "      <th>2</th>\n",
       "      <td>E</td>\n",
       "      <td>95894</td>\n",
       "    </tr>\n",
       "    <tr>\n",
       "      <th>3</th>\n",
       "      <td>V</td>\n",
       "      <td>95629</td>\n",
       "    </tr>\n",
       "    <tr>\n",
       "      <th>4</th>\n",
       "      <td>G</td>\n",
       "      <td>89015</td>\n",
       "    </tr>\n",
       "    <tr>\n",
       "      <th>5</th>\n",
       "      <td>I</td>\n",
       "      <td>88100</td>\n",
       "    </tr>\n",
       "    <tr>\n",
       "      <th>6</th>\n",
       "      <td>D</td>\n",
       "      <td>81500</td>\n",
       "    </tr>\n",
       "    <tr>\n",
       "      <th>7</th>\n",
       "      <td>S</td>\n",
       "      <td>78079</td>\n",
       "    </tr>\n",
       "    <tr>\n",
       "      <th>8</th>\n",
       "      <td>R</td>\n",
       "      <td>76677</td>\n",
       "    </tr>\n",
       "    <tr>\n",
       "      <th>9</th>\n",
       "      <td>T</td>\n",
       "      <td>72810</td>\n",
       "    </tr>\n",
       "    <tr>\n",
       "      <th>10</th>\n",
       "      <td>K</td>\n",
       "      <td>70086</td>\n",
       "    </tr>\n",
       "    <tr>\n",
       "      <th>11</th>\n",
       "      <td>P</td>\n",
       "      <td>45277</td>\n",
       "    </tr>\n",
       "    <tr>\n",
       "      <th>12</th>\n",
       "      <td>Q</td>\n",
       "      <td>43994</td>\n",
       "    </tr>\n",
       "    <tr>\n",
       "      <th>13</th>\n",
       "      <td>N</td>\n",
       "      <td>43915</td>\n",
       "    </tr>\n",
       "    <tr>\n",
       "      <th>14</th>\n",
       "      <td>F</td>\n",
       "      <td>41603</td>\n",
       "    </tr>\n",
       "    <tr>\n",
       "      <th>15</th>\n",
       "      <td>Y</td>\n",
       "      <td>31839</td>\n",
       "    </tr>\n",
       "    <tr>\n",
       "      <th>16</th>\n",
       "      <td>H</td>\n",
       "      <td>28724</td>\n",
       "    </tr>\n",
       "    <tr>\n",
       "      <th>17</th>\n",
       "      <td>M</td>\n",
       "      <td>28511</td>\n",
       "    </tr>\n",
       "    <tr>\n",
       "      <th>18</th>\n",
       "      <td>C</td>\n",
       "      <td>14527</td>\n",
       "    </tr>\n",
       "    <tr>\n",
       "      <th>19</th>\n",
       "      <td>W</td>\n",
       "      <td>10211</td>\n",
       "    </tr>\n",
       "    <tr>\n",
       "      <th>20</th>\n",
       "      <td>X</td>\n",
       "      <td>9</td>\n",
       "    </tr>\n",
       "  </tbody>\n",
       "</table>\n",
       "</div>"
      ],
      "text/plain": [
       "   Code    Freq\n",
       "0     L  135244\n",
       "1     A  119767\n",
       "2     E   95894\n",
       "3     V   95629\n",
       "4     G   89015\n",
       "5     I   88100\n",
       "6     D   81500\n",
       "7     S   78079\n",
       "8     R   76677\n",
       "9     T   72810\n",
       "10    K   70086\n",
       "11    P   45277\n",
       "12    Q   43994\n",
       "13    N   43915\n",
       "14    F   41603\n",
       "15    Y   31839\n",
       "16    H   28724\n",
       "17    M   28511\n",
       "18    C   14527\n",
       "19    W   10211\n",
       "20    X       9"
      ]
     },
     "execution_count": 49,
     "metadata": {},
     "output_type": "execute_result"
    }
   ],
   "source": [
    "# train code sequence\n",
    "train_code_freq = get_code_freq(df_train['sequence'], 'Train')\n",
    "train_code_freq"
   ]
  },
  {
   "cell_type": "code",
   "execution_count": 50,
   "metadata": {
    "colab": {
     "base_uri": "https://localhost:8080/",
     "height": 732
    },
    "colab_type": "code",
    "id": "26OQZxJbDABI",
    "outputId": "cf8fbd67-a4c1-44f4-ada0-12b5529c9f20"
   },
   "outputs": [
    {
     "name": "stdout",
     "output_type": "stream",
     "text": [
      "Codes: Val\n",
      "Total unique codes: 20\n"
     ]
    },
    {
     "data": {
      "text/html": [
       "<div>\n",
       "<style scoped>\n",
       "    .dataframe tbody tr th:only-of-type {\n",
       "        vertical-align: middle;\n",
       "    }\n",
       "\n",
       "    .dataframe tbody tr th {\n",
       "        vertical-align: top;\n",
       "    }\n",
       "\n",
       "    .dataframe thead th {\n",
       "        text-align: right;\n",
       "    }\n",
       "</style>\n",
       "<table border=\"1\" class=\"dataframe\">\n",
       "  <thead>\n",
       "    <tr style=\"text-align: right;\">\n",
       "      <th></th>\n",
       "      <th>Code</th>\n",
       "      <th>Freq</th>\n",
       "    </tr>\n",
       "  </thead>\n",
       "  <tbody>\n",
       "    <tr>\n",
       "      <th>0</th>\n",
       "      <td>L</td>\n",
       "      <td>16808</td>\n",
       "    </tr>\n",
       "    <tr>\n",
       "      <th>1</th>\n",
       "      <td>A</td>\n",
       "      <td>14910</td>\n",
       "    </tr>\n",
       "    <tr>\n",
       "      <th>2</th>\n",
       "      <td>E</td>\n",
       "      <td>11793</td>\n",
       "    </tr>\n",
       "    <tr>\n",
       "      <th>3</th>\n",
       "      <td>V</td>\n",
       "      <td>11725</td>\n",
       "    </tr>\n",
       "    <tr>\n",
       "      <th>4</th>\n",
       "      <td>G</td>\n",
       "      <td>11156</td>\n",
       "    </tr>\n",
       "    <tr>\n",
       "      <th>5</th>\n",
       "      <td>I</td>\n",
       "      <td>10899</td>\n",
       "    </tr>\n",
       "    <tr>\n",
       "      <th>6</th>\n",
       "      <td>D</td>\n",
       "      <td>10179</td>\n",
       "    </tr>\n",
       "    <tr>\n",
       "      <th>7</th>\n",
       "      <td>S</td>\n",
       "      <td>9684</td>\n",
       "    </tr>\n",
       "    <tr>\n",
       "      <th>8</th>\n",
       "      <td>R</td>\n",
       "      <td>9513</td>\n",
       "    </tr>\n",
       "    <tr>\n",
       "      <th>9</th>\n",
       "      <td>T</td>\n",
       "      <td>8817</td>\n",
       "    </tr>\n",
       "    <tr>\n",
       "      <th>10</th>\n",
       "      <td>K</td>\n",
       "      <td>8566</td>\n",
       "    </tr>\n",
       "    <tr>\n",
       "      <th>11</th>\n",
       "      <td>P</td>\n",
       "      <td>5627</td>\n",
       "    </tr>\n",
       "    <tr>\n",
       "      <th>12</th>\n",
       "      <td>Q</td>\n",
       "      <td>5393</td>\n",
       "    </tr>\n",
       "    <tr>\n",
       "      <th>13</th>\n",
       "      <td>N</td>\n",
       "      <td>5212</td>\n",
       "    </tr>\n",
       "    <tr>\n",
       "      <th>14</th>\n",
       "      <td>F</td>\n",
       "      <td>5090</td>\n",
       "    </tr>\n",
       "    <tr>\n",
       "      <th>15</th>\n",
       "      <td>Y</td>\n",
       "      <td>3981</td>\n",
       "    </tr>\n",
       "    <tr>\n",
       "      <th>16</th>\n",
       "      <td>H</td>\n",
       "      <td>3501</td>\n",
       "    </tr>\n",
       "    <tr>\n",
       "      <th>17</th>\n",
       "      <td>M</td>\n",
       "      <td>3403</td>\n",
       "    </tr>\n",
       "    <tr>\n",
       "      <th>18</th>\n",
       "      <td>C</td>\n",
       "      <td>1856</td>\n",
       "    </tr>\n",
       "    <tr>\n",
       "      <th>19</th>\n",
       "      <td>W</td>\n",
       "      <td>1295</td>\n",
       "    </tr>\n",
       "  </tbody>\n",
       "</table>\n",
       "</div>"
      ],
      "text/plain": [
       "   Code   Freq\n",
       "0     L  16808\n",
       "1     A  14910\n",
       "2     E  11793\n",
       "3     V  11725\n",
       "4     G  11156\n",
       "5     I  10899\n",
       "6     D  10179\n",
       "7     S   9684\n",
       "8     R   9513\n",
       "9     T   8817\n",
       "10    K   8566\n",
       "11    P   5627\n",
       "12    Q   5393\n",
       "13    N   5212\n",
       "14    F   5090\n",
       "15    Y   3981\n",
       "16    H   3501\n",
       "17    M   3403\n",
       "18    C   1856\n",
       "19    W   1295"
      ]
     },
     "execution_count": 50,
     "metadata": {},
     "output_type": "execute_result"
    }
   ],
   "source": [
    "# val code sequence\n",
    "val_code_freq = get_code_freq(df_val['sequence'], 'Val')\n",
    "val_code_freq"
   ]
  },
  {
   "cell_type": "code",
   "execution_count": 51,
   "metadata": {
    "colab": {
     "base_uri": "https://localhost:8080/",
     "height": 791
    },
    "colab_type": "code",
    "id": "CEcQG5Y2CVvA",
    "outputId": "8e7f8cd4-adc1-415c-9ed4-e0a0dfd50cd0"
   },
   "outputs": [
    {
     "name": "stdout",
     "output_type": "stream",
     "text": [
      "Codes: Test\n",
      "Total unique codes: 20\n"
     ]
    },
    {
     "data": {
      "text/html": [
       "<div>\n",
       "<style scoped>\n",
       "    .dataframe tbody tr th:only-of-type {\n",
       "        vertical-align: middle;\n",
       "    }\n",
       "\n",
       "    .dataframe tbody tr th {\n",
       "        vertical-align: top;\n",
       "    }\n",
       "\n",
       "    .dataframe thead th {\n",
       "        text-align: right;\n",
       "    }\n",
       "</style>\n",
       "<table border=\"1\" class=\"dataframe\">\n",
       "  <thead>\n",
       "    <tr style=\"text-align: right;\">\n",
       "      <th></th>\n",
       "      <th>Code</th>\n",
       "      <th>Freq</th>\n",
       "    </tr>\n",
       "  </thead>\n",
       "  <tbody>\n",
       "    <tr>\n",
       "      <th>0</th>\n",
       "      <td>L</td>\n",
       "      <td>16726</td>\n",
       "    </tr>\n",
       "    <tr>\n",
       "      <th>1</th>\n",
       "      <td>A</td>\n",
       "      <td>14750</td>\n",
       "    </tr>\n",
       "    <tr>\n",
       "      <th>2</th>\n",
       "      <td>E</td>\n",
       "      <td>11884</td>\n",
       "    </tr>\n",
       "    <tr>\n",
       "      <th>3</th>\n",
       "      <td>V</td>\n",
       "      <td>11715</td>\n",
       "    </tr>\n",
       "    <tr>\n",
       "      <th>4</th>\n",
       "      <td>G</td>\n",
       "      <td>11109</td>\n",
       "    </tr>\n",
       "    <tr>\n",
       "      <th>5</th>\n",
       "      <td>I</td>\n",
       "      <td>10882</td>\n",
       "    </tr>\n",
       "    <tr>\n",
       "      <th>6</th>\n",
       "      <td>D</td>\n",
       "      <td>10152</td>\n",
       "    </tr>\n",
       "    <tr>\n",
       "      <th>7</th>\n",
       "      <td>S</td>\n",
       "      <td>9678</td>\n",
       "    </tr>\n",
       "    <tr>\n",
       "      <th>8</th>\n",
       "      <td>R</td>\n",
       "      <td>9595</td>\n",
       "    </tr>\n",
       "    <tr>\n",
       "      <th>9</th>\n",
       "      <td>T</td>\n",
       "      <td>8861</td>\n",
       "    </tr>\n",
       "    <tr>\n",
       "      <th>10</th>\n",
       "      <td>K</td>\n",
       "      <td>8671</td>\n",
       "    </tr>\n",
       "    <tr>\n",
       "      <th>11</th>\n",
       "      <td>P</td>\n",
       "      <td>5582</td>\n",
       "    </tr>\n",
       "    <tr>\n",
       "      <th>12</th>\n",
       "      <td>N</td>\n",
       "      <td>5412</td>\n",
       "    </tr>\n",
       "    <tr>\n",
       "      <th>13</th>\n",
       "      <td>Q</td>\n",
       "      <td>5362</td>\n",
       "    </tr>\n",
       "    <tr>\n",
       "      <th>14</th>\n",
       "      <td>F</td>\n",
       "      <td>5155</td>\n",
       "    </tr>\n",
       "    <tr>\n",
       "      <th>15</th>\n",
       "      <td>Y</td>\n",
       "      <td>4055</td>\n",
       "    </tr>\n",
       "    <tr>\n",
       "      <th>16</th>\n",
       "      <td>M</td>\n",
       "      <td>3530</td>\n",
       "    </tr>\n",
       "    <tr>\n",
       "      <th>17</th>\n",
       "      <td>H</td>\n",
       "      <td>3496</td>\n",
       "    </tr>\n",
       "    <tr>\n",
       "      <th>18</th>\n",
       "      <td>C</td>\n",
       "      <td>1851</td>\n",
       "    </tr>\n",
       "    <tr>\n",
       "      <th>19</th>\n",
       "      <td>W</td>\n",
       "      <td>1289</td>\n",
       "    </tr>\n",
       "  </tbody>\n",
       "</table>\n",
       "</div>"
      ],
      "text/plain": [
       "   Code   Freq\n",
       "0     L  16726\n",
       "1     A  14750\n",
       "2     E  11884\n",
       "3     V  11715\n",
       "4     G  11109\n",
       "5     I  10882\n",
       "6     D  10152\n",
       "7     S   9678\n",
       "8     R   9595\n",
       "9     T   8861\n",
       "10    K   8671\n",
       "11    P   5582\n",
       "12    N   5412\n",
       "13    Q   5362\n",
       "14    F   5155\n",
       "15    Y   4055\n",
       "16    M   3530\n",
       "17    H   3496\n",
       "18    C   1851\n",
       "19    W   1289"
      ]
     },
     "execution_count": 51,
     "metadata": {},
     "output_type": "execute_result"
    }
   ],
   "source": [
    "# test code sequence\n",
    "test_code_freq = get_code_freq(df_test['sequence'], 'Test')\n",
    "test_code_freq"
   ]
  },
  {
   "cell_type": "code",
   "execution_count": 52,
   "metadata": {
    "colab": {},
    "colab_type": "code",
    "id": "Vsp8Bd37DQi4"
   },
   "outputs": [],
   "source": [
    "def plot_code_freq(df, data_name):\n",
    "  \n",
    "    plt.title(f'Code frequency: {data_name}')\n",
    "    sns.barplot(x='Code', y='Freq', data=df)"
   ]
  },
  {
   "cell_type": "code",
   "execution_count": 53,
   "metadata": {
    "colab": {
     "base_uri": "https://localhost:8080/",
     "height": 299
    },
    "colab_type": "code",
    "id": "hqpczOVOF8sA",
    "outputId": "f1917b77-bdc4-405f-bd62-4d1ffebc1069"
   },
   "outputs": [
    {
     "data": {
      "image/png": "[encoded data removed]",
      "text/plain": [
       "<Figure size 432x288 with 3 Axes>"
      ]
     },
     "metadata": {},
     "output_type": "display_data"
    }
   ],
   "source": [
    "plt.subplot(1, 3, 1)\n",
    "plot_code_freq(train_code_freq, 'Train')\n",
    "\n",
    "plt.subplot(1, 3, 2)\n",
    "plot_code_freq(val_code_freq, 'Val')\n",
    "\n",
    "plt.subplot(1, 3, 3)\n",
    "plot_code_freq(test_code_freq, 'Test')\n",
    "\n",
    "plt.subplots_adjust(right=3.0)\n",
    "plt.show()"
   ]
  },
  {
   "cell_type": "markdown",
   "metadata": {
    "colab_type": "text",
    "id": "J_SB86pZzCIq"
   },
   "source": [
    "__Observations__\n",
    "- Most frequent amino acid code is L followed by A, V, G.\n",
    "- As we can see, that the uncommon amino acids (i.e., X, U, B, O, Z) are present in very less quantity. Therefore we can consider only 20 common natural amino acids for sequence encoding."
   ]
  },
  {
   "cell_type": "markdown",
   "metadata": {
    "colab_type": "text",
    "id": "08mVHtLVfCmp"
   },
   "source": [
    "### Protein families with most sequences(No. of observations)"
   ]
  },
  {
   "cell_type": "code",
   "execution_count": 28,
   "metadata": {
    "colab": {
     "base_uri": "https://localhost:8080/",
     "height": 386
    },
    "colab_type": "code",
    "id": "VOx7dLl4uVwd",
    "outputId": "f81e1563-a81e-4899-8256-074d6d8d5ffc"
   },
   "outputs": [
    {
     "data": {
      "text/plain": [
       "family_id\n",
       "SRP54_N            1185\n",
       "WD40               1173\n",
       "OTCace_N           1171\n",
       "PEP-utilizers      1147\n",
       "Glycos_trans_3N    1138\n",
       "THF_DHG_CYH        1113\n",
       "Prenyltransf       1104\n",
       "HTH_1              1064\n",
       "Maf                1061\n",
       "DHH                1057\n",
       "dtype: int64"
      ]
     },
     "execution_count": 28,
     "metadata": {},
     "output_type": "execute_result"
    }
   ],
   "source": [
    "df_train.groupby('family_id').size().sort_values(ascending=False).head(20)"
   ]
  },
  {
   "cell_type": "code",
   "execution_count": 29,
   "metadata": {
    "colab": {
     "base_uri": "https://localhost:8080/",
     "height": 386
    },
    "colab_type": "code",
    "id": "PFc1swdQ7fA3",
    "outputId": "5a2628fd-adff-4951-a8e2-2aa1d1317dfc"
   },
   "outputs": [
    {
     "data": {
      "text/plain": [
       "family_id\n",
       "SRP54_N            148\n",
       "WD40               146\n",
       "OTCace_N           146\n",
       "PEP-utilizers      143\n",
       "Glycos_trans_3N    142\n",
       "THF_DHG_CYH        138\n",
       "Prenyltransf       138\n",
       "HTH_1              133\n",
       "Maf                132\n",
       "DHH                131\n",
       "dtype: int64"
      ]
     },
     "execution_count": 29,
     "metadata": {},
     "output_type": "execute_result"
    }
   ],
   "source": [
    "df_val.groupby('family_id').size().sort_values(ascending=False).head(20)"
   ]
  },
  {
   "cell_type": "code",
   "execution_count": 30,
   "metadata": {
    "colab": {
     "base_uri": "https://localhost:8080/",
     "height": 386
    },
    "colab_type": "code",
    "id": "XYKZ-oedp5JQ",
    "outputId": "8948b589-b5f0-4cb4-ab1e-320cfd73591b"
   },
   "outputs": [
    {
     "data": {
      "text/plain": [
       "family_id\n",
       "SRP54_N            148\n",
       "WD40               146\n",
       "OTCace_N           146\n",
       "PEP-utilizers      143\n",
       "Glycos_trans_3N    142\n",
       "THF_DHG_CYH        138\n",
       "Prenyltransf       138\n",
       "HTH_1              133\n",
       "Maf                132\n",
       "DHH                131\n",
       "dtype: int64"
      ]
     },
     "execution_count": 30,
     "metadata": {},
     "output_type": "execute_result"
    }
   ],
   "source": [
    "df_test.groupby('family_id').size().sort_values(ascending=False).head(20)"
   ]
  },
  {
   "cell_type": "markdown",
   "metadata": {},
   "source": [
    "__Observation__\n",
    "\n",
    "- Top 20 classes are same across all the sets [train, test, val].\n",
    "- Test and Val sets have almost same frequency for the top 20 classes."
   ]
  },
  {
   "cell_type": "markdown",
   "metadata": {
    "colab_type": "text",
    "id": "TGQw5qydpFw5"
   },
   "source": [
    "### Considering 1000 classes based on no. of observations."
   ]
  },
  {
   "cell_type": "code",
   "execution_count": 31,
   "metadata": {
    "colab": {
     "base_uri": "https://localhost:8080/",
     "height": 34
    },
    "colab_type": "code",
    "id": "bOGBUMFw-CdY",
    "outputId": "07b4ac68-da22-447c-f504-ec3d28c79552"
   },
   "outputs": [
    {
     "data": {
      "text/plain": [
       "10"
      ]
     },
     "execution_count": 31,
     "metadata": {},
     "output_type": "execute_result"
    }
   ],
   "source": [
    "# Considering top 1000 classes based on most observations because of limited computational power.\n",
    "\n",
    "classes = df_train['family_accession'].value_counts()[:1000].index.tolist()\n",
    "len(classes)"
   ]
  },
  {
   "cell_type": "code",
   "execution_count": 32,
   "metadata": {
    "colab": {
     "base_uri": "https://localhost:8080/",
     "height": 84
    },
    "colab_type": "code",
    "id": "Ctv5whnYk8FL",
    "outputId": "fc992b26-c07c-453c-cb1a-d1da2f9e54c8"
   },
   "outputs": [
    {
     "name": "stdout",
     "output_type": "stream",
     "text": [
      "Data size after considering 1000 classes for each data split:\n",
      "Train size : 11213\n",
      "Val size : 1397\n",
      "Test size : 1397\n"
     ]
    }
   ],
   "source": [
    "# Filtering data based on considered 1000 classes.\n",
    "train_sm = df_train.loc[df_train['family_accession'].isin(classes)].reset_index()\n",
    "val_sm = df_val.loc[df_val['family_accession'].isin(classes)].reset_index()\n",
    "test_sm = df_test.loc[df_test['family_accession'].isin(classes)].reset_index()\n",
    "\n",
    "print('Data size after considering 1000 classes for each data split:')\n",
    "print('Train size :', len(train_sm))\n",
    "print('Val size :', len(val_sm))\n",
    "print('Test size :', len(test_sm))"
   ]
  },
  {
   "cell_type": "code",
   "execution_count": 33,
   "metadata": {
    "colab": {
     "base_uri": "https://localhost:8080/",
     "height": 67
    },
    "colab_type": "code",
    "id": "0sRhsRRqUGGV",
    "outputId": "bee31926-b35b-4d12-eb75-e35109705744"
   },
   "outputs": [
    {
     "name": "stdout",
     "output_type": "stream",
     "text": [
      "Number of unique classes in Train:  10\n",
      "Number of unique classes in Val:  10\n",
      "Number of unique classes in Test:  10\n"
     ]
    }
   ],
   "source": [
    "# No. of unique classes after reducing the data size.\n",
    "\n",
    "calc_unique_cls(train_sm, test_sm, val_sm)"
   ]
  },
  {
   "cell_type": "markdown",
   "metadata": {
    "colab_type": "text",
    "id": "_aPR87m9hYV2"
   },
   "source": [
    "## 4. Deep Learning Models"
   ]
  },
  {
   "cell_type": "markdown",
   "metadata": {
    "colab_type": "text",
    "id": "LHh3AXwNp7Yv"
   },
   "source": [
    "### Text Preprocessing"
   ]
  },
  {
   "cell_type": "code",
   "execution_count": 34,
   "metadata": {
    "colab": {
     "base_uri": "https://localhost:8080/",
     "height": 50
    },
    "colab_type": "code",
    "id": "D16pJrHvqDdU",
    "outputId": "0ff0f88d-18b2-4fff-c65f-1108c58707aa"
   },
   "outputs": [
    {
     "name": "stdout",
     "output_type": "stream",
     "text": [
      "{'A': 1, 'C': 2, 'D': 3, 'E': 4, 'F': 5, 'G': 6, 'H': 7, 'I': 8, 'K': 9, 'L': 10, 'M': 11, 'N': 12, 'P': 13, 'Q': 14, 'R': 15, 'S': 16, 'T': 17, 'V': 18, 'W': 19, 'Y': 20}\n",
      "Dict Length: 20\n"
     ]
    }
   ],
   "source": [
    "# https://dmnfarrell.github.io/bioinformatics/mhclearning\n",
    "# http://www.cryst.bbk.ac.uk/education/AminoAcid/the_twenty.html\n",
    "# 1 letter code for 20 natural amino acids\n",
    "\n",
    "codes = ['A', 'C', 'D', 'E', 'F', 'G', 'H', 'I', 'K', 'L',\n",
    "         'M', 'N', 'P', 'Q', 'R', 'S', 'T', 'V', 'W', 'Y']\n",
    "\n",
    "def create_dict(codes):\n",
    "    char_dict = {}\n",
    "    for index, val in enumerate(codes):\n",
    "        char_dict[val] = index+1\n",
    "\n",
    "    return char_dict\n",
    "\n",
    "char_dict = create_dict(codes)\n",
    "\n",
    "print(char_dict)\n",
    "print(\"Dict Length:\", len(char_dict))"
   ]
  },
  {
   "cell_type": "code",
   "execution_count": 35,
   "metadata": {
    "colab": {},
    "colab_type": "code",
    "id": "dN92LSEG62zX"
   },
   "outputs": [],
   "source": [
    "def integer_encoding(data):\n",
    "    \"\"\"\n",
    "  - Encodes code sequence to integer values.\n",
    "  - 20 common amino acids are taken into consideration\n",
    "    and rest 4 are categorized as 0.\n",
    "    \"\"\"\n",
    "  \n",
    "    encode_list = []\n",
    "    for row in data['sequence'].values:\n",
    "        row_encode = []\n",
    "        for code in row:\n",
    "            row_encode.append(char_dict.get(code, 0))\n",
    "        encode_list.append(np.array(row_encode))\n",
    "  \n",
    "    return encode_list"
   ]
  },
  {
   "cell_type": "code",
   "execution_count": 36,
   "metadata": {
    "colab": {},
    "colab_type": "code",
    "id": "2SW62zkr7Xzf"
   },
   "outputs": [],
   "source": [
    "train_encode = integer_encoding(train_sm) \n",
    "val_encode = integer_encoding(val_sm) \n",
    "test_encode = integer_encoding(test_sm) "
   ]
  },
  {
   "cell_type": "code",
   "execution_count": 37,
   "metadata": {
    "colab": {
     "base_uri": "https://localhost:8080/",
     "height": 34
    },
    "colab_type": "code",
    "id": "0_vX2hJJ7noX",
    "outputId": "6175a913-7b43-4283-9353-477f809f23d7"
   },
   "outputs": [
    {
     "data": {
      "text/plain": [
       "((11213, 100), (1397, 100), (1397, 100))"
      ]
     },
     "execution_count": 37,
     "metadata": {},
     "output_type": "execute_result"
    }
   ],
   "source": [
    "# padding sequences\n",
    "\n",
    "max_length = 100\n",
    "train_pad = pad_sequences(train_encode, maxlen=max_length, padding='post', truncating='post')\n",
    "val_pad = pad_sequences(val_encode, maxlen=max_length, padding='post', truncating='post')\n",
    "test_pad = pad_sequences(test_encode, maxlen=max_length, padding='post', truncating='post')\n",
    "\n",
    "train_pad.shape, val_pad.shape, test_pad.shape"
   ]
  },
  {
   "cell_type": "code",
   "execution_count": 38,
   "metadata": {
    "colab": {
     "base_uri": "https://localhost:8080/",
     "height": 34
    },
    "colab_type": "code",
    "id": "3MNzmuhn9zTJ",
    "outputId": "55c143ec-aed3-4bb4-d88b-7720a7651ae5"
   },
   "outputs": [
    {
     "data": {
      "text/plain": [
       "((11213, 100, 21), (1397, 100, 21), (1397, 100, 21))"
      ]
     },
     "execution_count": 38,
     "metadata": {},
     "output_type": "execute_result"
    }
   ],
   "source": [
    "# One hot encoding of sequences\n",
    "\n",
    "train_ohe = to_categorical(train_pad)\n",
    "val_ohe = to_categorical(val_pad)\n",
    "test_ohe = to_categorical(test_pad)\n",
    "\n",
    "train_ohe.shape, test_ohe.shape, test_ohe.shape "
   ]
  },
  {
   "cell_type": "code",
   "execution_count": 39,
   "metadata": {
    "colab": {},
    "colab_type": "code",
    "id": "REZ9V0mt_v8Y"
   },
   "outputs": [],
   "source": [
    "# del train_pad, val_pad, test_pad\n",
    "# del train_encode, val_encode, test_encode\n",
    "\n",
    "# gc.collect()"
   ]
  },
  {
   "cell_type": "code",
   "execution_count": 40,
   "metadata": {
    "colab": {
     "base_uri": "https://localhost:8080/",
     "height": 34
    },
    "colab_type": "code",
    "id": "cOdjjL1mLMko",
    "outputId": "207f7985-fe44-49b4-d9a6-161d4eaf582b"
   },
   "outputs": [
    {
     "data": {
      "text/plain": [
       "((11213,), (1397,), (1397,))"
      ]
     },
     "execution_count": 40,
     "metadata": {},
     "output_type": "execute_result"
    }
   ],
   "source": [
    "# label/integer encoding output variable: (y)\n",
    "le = LabelEncoder()\n",
    "\n",
    "y_train_le = le.fit_transform(train_sm['family_accession'])\n",
    "y_val_le = le.transform(val_sm['family_accession'])\n",
    "y_test_le = le.transform(test_sm['family_accession'])\n",
    "\n",
    "y_train_le.shape, y_val_le.shape, y_test_le.shape"
   ]
  },
  {
   "cell_type": "markdown",
   "metadata": {},
   "source": [
    "0:HTH_1  1:PEP-utilizers  2:WD40  3:THF_DHG_CYH  4:Prenyltransf  \n",
    "5:DHH  6:Maf  7:OTCace_N  8:SRP54_N  9:Glycos_trans_3N"
   ]
  },
  {
   "cell_type": "code",
   "execution_count": 106,
   "metadata": {},
   "outputs": [
    {
     "name": "stdout",
     "output_type": "stream",
     "text": [
      "[2 6 1 8 0 5 9 6 8 0 0 7 9 5 8 0 2 1 5 6 5 0 6 6 4 9 5 6 6 7 9 1 2 8 5 2 1\n",
      " 8 4 6 3 2 2 5 3 9 9 9 8 5 2 2 4 0 2 9 6 9 9 8 3 5 2 1 7 1 1 6 8 3 6 6 5 7\n",
      " 6 4 4 0 9 2 2 3 3 6 6 6 0 2 3 7 1 3 6 5 1 6 1 3 2 7 3 4 3 9 2 6 1 7 8 5 6\n",
      " 5 8 7 7 8 9 2 1 0 2 5 1 5 1 4 8 8 4 5 2 3 0 3 8 5 0 5 7 7 1 2 7 7 2 3 0 2\n",
      " 8 6 2 5 6 8 2 9 8 6 0 4 5 6 5 1 8 8 8 1 5 4 7 8 2 8 6 1 7 5 2 7 5 9 8 1 1\n",
      " 1 2 5 0 6 1 6 6 2 9 7 4 2 5 6 1 8 0 5 0 3 3 4 2 4 3 9 7 0 2 3 7 8 0 9 5 5\n",
      " 4 6 2 4 6 3 2 8 9 5 4 8 4 6 9 0 8 4 8 5 1 4 1 1 2 2 7 5 6 2 1 2 5 0 0 6 4\n",
      " 8 6 5 0 4 0 8 0 9 8 9 1 6 8 9 2 1 0 8 6 6 6 8 2 0 0 8 0 2 4 4 7 8 3 1 5 8\n",
      " 3 0 6 3 8 2 3 0 5 1 5 9 7 3 9 5 7 7 2 9 7 2 4 5 0 1 7 8 4 4 7 5 3 7 7 0 4\n",
      " 9 8 0 5 5 2 9 5 5 1 6 1 7 0 9 1 8 9 8 0 5 9 3 5 5 3 8 8 2 5 6 7 2 9 7 6 9\n",
      " 3 3 0 1 8 5 1 5 0 1 8 3 6 0 2 4 3 6 4 1 1 7 9 2 1 3 0 3 1 8 6 0 2 9 9 7 2\n",
      " 5 5 1 9 3 9 4 2 7 2 5 7 0 3 7 3 9 7 9 4 2 5 8 2 5 0 3 4 4 6 6 4 8 4 8 9 5\n",
      " 2 1 7 3 4 3 3 0 5 0 5 3 2 7 1 7 1 3 9 2 6 6 6 3 5 0 8 2 8 8 9 7 6 8 1 7 3\n",
      " 3 7 7 3 4 0 2 5 3 8 0 3 7 7 2 2 1 5 0 9 5 4 3 2 7 2 2 8 5 4 7 2 4 6 5 2 3\n",
      " 0 4 0 9 9 9 2 4 7 4 0 1 4 1 5 2 7 2 3 8 5 3 6 4 1 8 4 0 7 6 3 3 1 9 7 9 9\n",
      " 8 1 9 3 3 1 6 5 2 2 0 2 7 7 0 7 1 5 9 0 4 3 9 8 7 5 4 5 1 6 6 3 9 3 7 3 3\n",
      " 9 9 3 5 7 1 1 0 0 4 9 6 3 5 0 4 7 0 3 2 8 1 4 4 2 4 7 1 8 6 2 4 8 3 2 8 1\n",
      " 2 4 1 3 7 5 9 9 1 5 8 9 8 3 3 2 0 1 8 8 4 1 3 7 4 0 0 9 0 9 4 5 1 8 6 1 7\n",
      " 9 3 2 7 3 5 9 1 6 3 9 4 4 2 8 2 3 9 1 8 6 7 4 3 8 7 2 4 9 9 5 3 1 2 2 6 1\n",
      " 8 7 4 3 6 5 6 4 9 0 9 4 5 1 5 1 2 9 4 1 7 5 7 1 4 2 2 6 4 0 6 3 2 3 4 5 0\n",
      " 0 4 3 4 8 2 1 7 2 3 9 6 3 6 0 1 7 9 9 7 0 4 0 6 4 8 0 3 7 4 8 3 1 8 0 1 0\n",
      " 7 7 9 6 7 3 7 0 3 7 2 2 9 3 6 0 7 0 0 3 4 3 8 3 7 8 5 6 6 0 9 0 1 2 8 0 1\n",
      " 0 4 1 3 4 9 5 0 7 5 0 5 5 9 0 9 9 8 5 0 7 7 2 1 2 3 7 4 3 1 6 6 6 9 9 0 8\n",
      " 4 4 8 6 7 9 4 2 3 0 9 8 3 2 8 2 2 2 2 4 8 0 0 9 3 4 4 6 0 7 0 0 5 8 4 4 9\n",
      " 2 4 3 3 4 8 1 9 7 3 4 2 2 6 6 9 3 7 2 5 9 9 4 6 8 9 9 5 3 1 1 5 8 2 8 9 7\n",
      " 7 5 1 4 2 5 8 3 6 4 5 0 5 5 4 5 4 8 5 8 4 5 2 5 8 1 6 3 1 0 3 8 2 7 1 8 4\n",
      " 0 5 4 7 3 6 2 1 7 1 0 8 1 3 2 2 3 7 7 8 2 2 3 9 4 8 9 7 2 5 3 0 1 7 6 7 5\n",
      " 1 9 1 6 6 4 6 8 1 4 1 5 6 5 1 6 2 9 2 0 4 1 7 7 5 2 4 9 1 8 9 9 7 5 5 8 9\n",
      " 1 1 8 0 4 4 9 7 8 4 4 3 6 2 3 8 5 6 2 4 8 2 6 2 4 1 8 9 0 6 3 2 6 6 3 8 1\n",
      " 8 8 5 3 8 1 5 3 5 7 4 9 6 1 8 3 9 2 6 6 9 8 6 2 8 3 0 3 5 7 9 6 6 4 4 9 6\n",
      " 8 0 1 3 3 1 4 9 5 1 8 3 0 9 2 5 9 7 2 1 0 8 8 5 3 6 3 4 3 9 7 5 1 2 0 9 7\n",
      " 6 0 1 7 3 0 9 6 7 3 6 2 4 4 7 8 7 6 7 2 7 9 1 0 0 7 8 1 4 6 2 1 9 0 2 3 7\n",
      " 7 5 2 1 5 4 9 7 4 0 8 4 6 9 6 2 1 8 5 1 0 6 0 8 3 4 1 7 8 7 1 4 0 2 8 0 0\n",
      " 8 8 8 7 6 6 6 9 4 1 9 7 6 9 5 9 9 5 9 1 2 0 1 4 2 7 9 9 9 1 1 7 8 0 1 2 6\n",
      " 9 6 9 7 9 8 3 1 6 3 9 3 0 7 1 3 1 5 0 3 8 1 7 2 7 2 0 4 0 9 8 6 8 2 5 6 4\n",
      " 8 1 9 6 5 4 6 5 4 7 6 3 7 7 1 0 8 2 7 8 8 4 7 2 4 8 4 7 3 0 9 9 9 5 8 7 7\n",
      " 7 9 7 6 1 1 7 8 6 9 4 1 4 0 0 2 1 3 8 0 2 2 0 4 7 1 4 3 0 2 7 8 4 8 4 0 8\n",
      " 9 9 6 5 0 6 3 8 1 9 4 7 7 8 6 5 3 1 1 0 4 1 6 7 7 7 5 0]\n"
     ]
    }
   ],
   "source": [
    "np.set_printoptions(threshold=np.inf)\n",
    "print(y_test_le)"
   ]
  },
  {
   "cell_type": "code",
   "execution_count": 41,
   "metadata": {
    "colab": {
     "base_uri": "https://localhost:8080/",
     "height": 34
    },
    "colab_type": "code",
    "id": "1r-g3zHcNe5o",
    "outputId": "03227960-c615-4a41-d315-c522151c350a"
   },
   "outputs": [
    {
     "name": "stdout",
     "output_type": "stream",
     "text": [
      "Total classes:  10\n"
     ]
    }
   ],
   "source": [
    "print('Total classes: ', len(le.classes_))\n",
    "# le.classes_"
   ]
  },
  {
   "cell_type": "code",
   "execution_count": 42,
   "metadata": {
    "colab": {
     "base_uri": "https://localhost:8080/",
     "height": 34
    },
    "colab_type": "code",
    "id": "er4ArjShGnV3",
    "outputId": "79a9fc8c-b430-4971-e338-b8cef5868d42"
   },
   "outputs": [
    {
     "data": {
      "text/plain": [
       "((11213, 10), (1397, 10), (1397, 10))"
      ]
     },
     "execution_count": 42,
     "metadata": {},
     "output_type": "execute_result"
    }
   ],
   "source": [
    "# One hot encoding of outputs\n",
    "y_train = to_categorical(y_train_le)\n",
    "y_val = to_categorical(y_val_le)\n",
    "y_test = to_categorical(y_test_le)\n",
    "\n",
    "y_train.shape, y_val.shape, y_test.shape"
   ]
  },
  {
   "cell_type": "code",
   "execution_count": 43,
   "metadata": {
    "colab": {},
    "colab_type": "code",
    "id": "ADeDl5u7whSp"
   },
   "outputs": [],
   "source": [
    "# Utility function: plot model's accuracy and loss\n",
    "\n",
    "# https://realpython.com/python-keras-text-classification/\n",
    "plt.style.use('ggplot')\n",
    "\n",
    "def plot_history(history):\n",
    "    acc = history.history['accuracy']\n",
    "    val_acc = history.history['val_accuracy']\n",
    "    loss = history.history['loss']\n",
    "    val_loss = history.history['val_loss']\n",
    "    x = range(1, len(acc) + 1)\n",
    "\n",
    "    plt.figure(figsize=(12, 5))\n",
    "    plt.subplot(1, 2, 1)\n",
    "    plt.plot(x, acc, 'b', label='Training acc')\n",
    "    plt.plot(x, val_acc, 'r', label='Validation acc')\n",
    "    plt.title('Training and validation accuracy')\n",
    "    plt.legend()\n",
    "\n",
    "    plt.subplot(1, 2, 2)\n",
    "    plt.plot(x, loss, 'b', label='Training loss')\n",
    "    plt.plot(x, val_loss, 'r', label='Validation loss')\n",
    "    plt.title('Training and validation loss')\n",
    "    plt.legend()"
   ]
  },
  {
   "cell_type": "code",
   "execution_count": 44,
   "metadata": {
    "colab": {},
    "colab_type": "code",
    "id": "GG5UJlgsK0z6"
   },
   "outputs": [],
   "source": [
    "# Utility function: Display model score(Loss & Accuracy) across all sets.\n",
    "\n",
    "def display_model_score(model, train, val, test, batch_size):\n",
    "\n",
    "    train_score = model.evaluate(train[0], train[1], batch_size=batch_size, verbose=1)\n",
    "    print('Train loss: ', train_score[0])\n",
    "    print('Train accuracy: ', train_score[1])\n",
    "    print('-'*70)\n",
    "\n",
    "    val_score = model.evaluate(val[0], val[1], batch_size=batch_size, verbose=1)\n",
    "    print('Val loss: ', val_score[0])\n",
    "    print('Val accuracy: ', val_score[1])\n",
    "    print('-'*70)\n",
    "\n",
    "    test_score = model.evaluate(test[0], test[1], batch_size=batch_size, verbose=1)\n",
    "    print('Test loss: ', test_score[0])\n",
    "    print('Test accuracy: ', test_score[1])"
   ]
  },
  {
   "cell_type": "markdown",
   "metadata": {
    "colab_type": "text",
    "id": "0GQ3x4L6hKOY"
   },
   "source": [
    "### Model 1: Bidirectional LSTM"
   ]
  },
  {
   "cell_type": "code",
   "execution_count": 57,
   "metadata": {
    "colab": {
     "base_uri": "https://localhost:8080/",
     "height": 319
    },
    "colab_type": "code",
    "id": "ERfM44Zk0dcz",
    "outputId": "e8fa2245-e20d-422f-ec08-9b5e7c54f558"
   },
   "outputs": [
    {
     "name": "stdout",
     "output_type": "stream",
     "text": [
      "Model: \"model_2\"\n",
      "_________________________________________________________________\n",
      "Layer (type)                 Output Shape              Param #   \n",
      "=================================================================\n",
      "input_3 (InputLayer)         [(None, 100)]             0         \n",
      "_________________________________________________________________\n",
      "embedding_2 (Embedding)      (None, 100, 128)          2688      \n",
      "_________________________________________________________________\n",
      "bidirectional_2 (Bidirection (None, 128)               98816     \n",
      "_________________________________________________________________\n",
      "dropout_2 (Dropout)          (None, 128)               0         \n",
      "_________________________________________________________________\n",
      "dense_2 (Dense)              (None, 10)                1290      \n",
      "=================================================================\n",
      "Total params: 102,794\n",
      "Trainable params: 102,794\n",
      "Non-trainable params: 0\n",
      "_________________________________________________________________\n"
     ]
    }
   ],
   "source": [
    "\n",
    "x_input = Input(shape=(100,))\n",
    "emb = Embedding(21, 128, input_length=max_length)(x_input)\n",
    "bi_rnn = Bidirectional(LSTM(64, kernel_regularizer=l2(0.01), recurrent_regularizer=l2(0.01), bias_regularizer=l2(0.01)))(emb)\n",
    "x = Dropout(0.3)(bi_rnn)\n",
    "\n",
    "# softmax classifier\n",
    "x_output = Dense(10, activation='softmax')(x)\n",
    "\n",
    "model1 = Model(inputs=x_input, outputs=x_output)\n",
    "model1.compile(optimizer='adam', loss='categorical_crossentropy', metrics=['accuracy'])\n",
    "\n",
    "model1.summary()"
   ]
  },
  {
   "cell_type": "code",
   "execution_count": 58,
   "metadata": {
    "colab": {},
    "colab_type": "code",
    "id": "DbpNEd2nmySw"
   },
   "outputs": [],
   "source": [
    "# Early Stopping\n",
    "es = EarlyStopping(monitor='val_loss', patience=3, verbose=1)"
   ]
  },
  {
   "cell_type": "code",
   "execution_count": 59,
   "metadata": {
    "colab": {
     "base_uri": "https://localhost:8080/",
     "height": 1000
    },
    "colab_type": "code",
    "id": "rojzazHe0hlN",
    "outputId": "17222b58-54be-47ac-90eb-a9cdd75bffe5",
    "scrolled": true
   },
   "outputs": [
    {
     "name": "stdout",
     "output_type": "stream",
     "text": [
      "Epoch 1/50\n",
      "44/44 [==============================] - 17s 279ms/step - loss: 7.1316 - accuracy: 0.2522 - val_loss: 4.3615 - val_accuracy: 0.4052\n",
      "Epoch 2/50\n",
      "44/44 [==============================] - 15s 331ms/step - loss: 3.9034 - accuracy: 0.3695 - val_loss: 2.5805 - val_accuracy: 0.7903\n",
      "Epoch 3/50\n",
      "44/44 [==============================] - 15s 342ms/step - loss: 2.4065 - accuracy: 0.7423 - val_loss: 1.9198 - val_accuracy: 0.8561\n",
      "Epoch 4/50\n",
      "44/44 [==============================] - 15s 348ms/step - loss: 1.8680 - accuracy: 0.8276 - val_loss: 1.6101 - val_accuracy: 0.8955\n",
      "Epoch 5/50\n",
      "44/44 [==============================] - 16s 360ms/step - loss: 1.5901 - accuracy: 0.8905 - val_loss: 1.4294 - val_accuracy: 0.9034\n",
      "Epoch 6/50\n",
      "44/44 [==============================] - 16s 360ms/step - loss: 1.4100 - accuracy: 0.9148 - val_loss: 1.2907 - val_accuracy: 0.9263\n",
      "Epoch 7/50\n",
      "44/44 [==============================] - 16s 373ms/step - loss: 1.2957 - accuracy: 0.9181 - val_loss: 1.1904 - val_accuracy: 0.9298\n",
      "Epoch 8/50\n",
      "44/44 [==============================] - 16s 354ms/step - loss: 1.2045 - accuracy: 0.9237 - val_loss: 1.1052 - val_accuracy: 0.9406\n",
      "Epoch 9/50\n",
      "44/44 [==============================] - 15s 349ms/step - loss: 1.1162 - accuracy: 0.9312 - val_loss: 1.0161 - val_accuracy: 0.9442\n",
      "Epoch 10/50\n",
      "44/44 [==============================] - 16s 359ms/step - loss: 1.0377 - accuracy: 0.9411 - val_loss: 0.9504 - val_accuracy: 0.9499\n",
      "Epoch 11/50\n",
      "44/44 [==============================] - 16s 367ms/step - loss: 0.9637 - accuracy: 0.9473 - val_loss: 0.9021 - val_accuracy: 0.9485\n",
      "Epoch 12/50\n",
      "44/44 [==============================] - 16s 353ms/step - loss: 0.9093 - accuracy: 0.9477 - val_loss: 0.8647 - val_accuracy: 0.9456\n",
      "Epoch 13/50\n",
      "44/44 [==============================] - 16s 364ms/step - loss: 0.8618 - accuracy: 0.9486 - val_loss: 0.7891 - val_accuracy: 0.9606\n",
      "Epoch 14/50\n",
      "44/44 [==============================] - 16s 362ms/step - loss: 0.8014 - accuracy: 0.9566 - val_loss: 0.7392 - val_accuracy: 0.9671\n",
      "Epoch 15/50\n",
      "44/44 [==============================] - 16s 354ms/step - loss: 0.7576 - accuracy: 0.9574 - val_loss: 0.7090 - val_accuracy: 0.9649\n",
      "Epoch 16/50\n",
      "44/44 [==============================] - 15s 350ms/step - loss: 0.7405 - accuracy: 0.9501 - val_loss: 0.6778 - val_accuracy: 0.9628\n",
      "Epoch 17/50\n",
      "44/44 [==============================] - 16s 358ms/step - loss: 0.6992 - accuracy: 0.9558 - val_loss: 0.6338 - val_accuracy: 0.9699\n",
      "Epoch 18/50\n",
      "44/44 [==============================] - 15s 349ms/step - loss: 0.6539 - accuracy: 0.9583 - val_loss: 0.6055 - val_accuracy: 0.9699\n",
      "Epoch 19/50\n",
      "44/44 [==============================] - 16s 374ms/step - loss: 0.6257 - accuracy: 0.9610 - val_loss: 0.5832 - val_accuracy: 0.9728\n",
      "Epoch 20/50\n",
      "44/44 [==============================] - 16s 360ms/step - loss: 0.5976 - accuracy: 0.9622 - val_loss: 0.5784 - val_accuracy: 0.9642\n",
      "Epoch 21/50\n",
      "44/44 [==============================] - 16s 361ms/step - loss: 0.5816 - accuracy: 0.9621 - val_loss: 0.5243 - val_accuracy: 0.9814\n",
      "Epoch 22/50\n",
      "44/44 [==============================] - 15s 350ms/step - loss: 0.5452 - accuracy: 0.9673 - val_loss: 0.5065 - val_accuracy: 0.9792\n",
      "Epoch 23/50\n",
      "44/44 [==============================] - 16s 357ms/step - loss: 0.5275 - accuracy: 0.9665 - val_loss: 0.5052 - val_accuracy: 0.9685\n",
      "Epoch 24/50\n",
      "44/44 [==============================] - 22s 496ms/step - loss: 0.5246 - accuracy: 0.9634 - val_loss: 0.4950 - val_accuracy: 0.9685\n",
      "Epoch 25/50\n",
      "44/44 [==============================] - 22s 504ms/step - loss: 0.5135 - accuracy: 0.9633 - val_loss: 0.4644 - val_accuracy: 0.9771\n",
      "Epoch 26/50\n",
      "44/44 [==============================] - 22s 493ms/step - loss: 0.5011 - accuracy: 0.9595 - val_loss: 0.4452 - val_accuracy: 0.9778\n",
      "Epoch 27/50\n",
      "44/44 [==============================] - 22s 496ms/step - loss: 0.4799 - accuracy: 0.9658 - val_loss: 0.4263 - val_accuracy: 0.9814\n",
      "Epoch 28/50\n",
      "44/44 [==============================] - 22s 506ms/step - loss: 0.4552 - accuracy: 0.9688 - val_loss: 0.4199 - val_accuracy: 0.9771\n",
      "Epoch 29/50\n",
      "44/44 [==============================] - 22s 493ms/step - loss: 0.4501 - accuracy: 0.9683 - val_loss: 0.4124 - val_accuracy: 0.9800\n",
      "Epoch 30/50\n",
      "44/44 [==============================] - 22s 494ms/step - loss: 0.4378 - accuracy: 0.9712 - val_loss: 0.4002 - val_accuracy: 0.9778\n",
      "Epoch 31/50\n",
      "44/44 [==============================] - 22s 492ms/step - loss: 0.4339 - accuracy: 0.9668 - val_loss: 0.3851 - val_accuracy: 0.9800\n",
      "Epoch 32/50\n",
      "44/44 [==============================] - 22s 506ms/step - loss: 0.4238 - accuracy: 0.9661 - val_loss: 0.4101 - val_accuracy: 0.9721\n",
      "Epoch 33/50\n",
      "44/44 [==============================] - 22s 498ms/step - loss: 0.4198 - accuracy: 0.9664 - val_loss: 0.3907 - val_accuracy: 0.9757\n",
      "Epoch 34/50\n",
      "44/44 [==============================] - 22s 504ms/step - loss: 0.4106 - accuracy: 0.9659 - val_loss: 0.3763 - val_accuracy: 0.9771\n",
      "Epoch 35/50\n",
      "44/44 [==============================] - 22s 501ms/step - loss: 0.4054 - accuracy: 0.9680 - val_loss: 0.3658 - val_accuracy: 0.9807\n",
      "Epoch 36/50\n",
      "44/44 [==============================] - 22s 497ms/step - loss: 0.4059 - accuracy: 0.9632 - val_loss: 0.4053 - val_accuracy: 0.9613\n",
      "Epoch 37/50\n",
      "44/44 [==============================] - 22s 494ms/step - loss: 0.3994 - accuracy: 0.9655 - val_loss: 0.3839 - val_accuracy: 0.9678\n",
      "Epoch 38/50\n",
      "44/44 [==============================] - 22s 489ms/step - loss: 0.4133 - accuracy: 0.9604 - val_loss: 0.3665 - val_accuracy: 0.9721\n",
      "Epoch 00038: early stopping\n"
     ]
    }
   ],
   "source": [
    "history1 = model1.fit(\n",
    "    train_pad, y_train,\n",
    "    epochs=50, batch_size=256,\n",
    "    validation_data=(val_pad, y_val),\n",
    "    callbacks=[es]\n",
    "    )"
   ]
  },
  {
   "cell_type": "code",
   "execution_count": 60,
   "metadata": {
    "colab": {},
    "colab_type": "code",
    "id": "AzBvM1RHqxgg"
   },
   "outputs": [],
   "source": [
    "# saving model weights.\n",
    "model1.save_weights('D:/googledownload/random_split/model/')"
   ]
  },
  {
   "cell_type": "code",
   "execution_count": 61,
   "metadata": {
    "colab": {
     "base_uri": "https://localhost:8080/",
     "height": 337
    },
    "colab_type": "code",
    "id": "FvmHIj9gG9VP",
    "outputId": "d66c6376-d696-4bb6-f11f-caff6e8783ab"
   },
   "outputs": [
    {
     "data": {
      "image/png": "[encoded data removed]",
      "text/plain": [
       "<Figure size 864x360 with 2 Axes>"
      ]
     },
     "metadata": {},
     "output_type": "display_data"
    }
   ],
   "source": [
    "plot_history(history1)"
   ]
  },
  {
   "cell_type": "code",
   "execution_count": 62,
   "metadata": {
    "colab": {
     "base_uri": "https://localhost:8080/",
     "height": 202
    },
    "colab_type": "code",
    "id": "VlW0i0DiLVI6",
    "outputId": "30afcf5f-1213-4f66-ff37-4faf92fdd404"
   },
   "outputs": [
    {
     "name": "stdout",
     "output_type": "stream",
     "text": [
      "44/44 [==============================] - 3s 72ms/step - loss: 0.3716 - accuracy: 0.9731\n",
      "Train loss:  0.3715519309043884\n",
      "Train accuracy:  0.9730669856071472\n",
      "----------------------------------------------------------------------\n",
      "6/6 [==============================] - 0s 67ms/step - loss: 0.3665 - accuracy: 0.9721\n",
      "Val loss:  0.36648309230804443\n",
      "Val accuracy:  0.9720830321311951\n",
      "----------------------------------------------------------------------\n",
      "6/6 [==============================] - 0s 67ms/step - loss: 0.3840 - accuracy: 0.9671\n",
      "Test loss:  0.3840073049068451\n",
      "Test accuracy:  0.9670723080635071\n"
     ]
    }
   ],
   "source": [
    "display_model_score(model1,\n",
    "    [train_pad, y_train],\n",
    "    [val_pad, y_val],\n",
    "    [test_pad, y_test],\n",
    "    256)"
   ]
  },
  {
   "cell_type": "code",
   "execution_count": 77,
   "metadata": {},
   "outputs": [],
   "source": [
    "y_true = y_test\n",
    "y_pred = model1.predict(test_pad,batch_size = 256)\n",
    "for i in range(len(y_pred)):\n",
    "    max_value=max(y_pred[i])\n",
    "    for j in range(len(y_pred[i])):\n",
    "        if max_value==y_pred[i][j]:\n",
    "            y_pred[i][j]=1\n",
    "        else:\n",
    "            y_pred[i][j]=0"
   ]
  },
  {
   "cell_type": "code",
   "execution_count": 110,
   "metadata": {},
   "outputs": [
    {
     "name": "stdout",
     "output_type": "stream",
     "text": [
      "classify_report : \n",
      "               precision    recall  f1-score   support\n",
      "\n",
      "           0       0.93      0.98      0.95       133\n",
      "           1       0.97      1.00      0.99       143\n",
      "           2       0.99      0.99      0.99       146\n",
      "           3       1.00      0.90      0.95       138\n",
      "           4       0.99      0.99      0.99       138\n",
      "           5       0.94      0.99      0.96       131\n",
      "           6       0.94      0.99      0.96       132\n",
      "           7       0.97      0.95      0.96       146\n",
      "           8       0.99      0.94      0.97       148\n",
      "           9       0.97      0.94      0.95       142\n",
      "\n",
      "   micro avg       0.97      0.97      0.97      1397\n",
      "   macro avg       0.97      0.97      0.97      1397\n",
      "weighted avg       0.97      0.97      0.97      1397\n",
      " samples avg       0.97      0.97      0.97      1397\n",
      "\n",
      "confusion_matrix : \n",
      " [[130   0   2   0   0   0   0   0   0   1]\n",
      " [  0 143   0   0   0   0   0   0   0   0]\n",
      " [  1   0 145   0   0   0   0   0   0   0]\n",
      " [  0   0   0 124   0   4   6   4   0   0]\n",
      " [  0   0   0   0 137   1   0   0   0   0]\n",
      " [  0   0   0   0   0 130   0   1   0   0]\n",
      " [  0   0   0   0   1   0 131   0   0   0]\n",
      " [  0   0   0   0   1   4   2 139   0   0]\n",
      " [  2   3   0   0   0   0   1   0 139   3]\n",
      " [  7   1   0   0   0   0   0   0   1 133]]\n",
      "multilabel_confusion_matrix : \n",
      " [[[1254   10]\n",
      "  [   3  130]]\n",
      "\n",
      " [[1250    4]\n",
      "  [   0  143]]\n",
      "\n",
      " [[1249    2]\n",
      "  [   1  145]]\n",
      "\n",
      " [[1259    0]\n",
      "  [  14  124]]\n",
      "\n",
      " [[1257    2]\n",
      "  [   1  137]]\n",
      "\n",
      " [[1257    9]\n",
      "  [   1  130]]\n",
      "\n",
      " [[1256    9]\n",
      "  [   1  131]]\n",
      "\n",
      " [[1246    5]\n",
      "  [   7  139]]\n",
      "\n",
      " [[1248    1]\n",
      "  [   9  139]]\n",
      "\n",
      " [[1251    4]\n",
      "  [   9  133]]]\n",
      "acc_for_each_class : \n",
      " [0.92857143 0.97278912 0.98639456 1.         0.98561151 0.9352518\n",
      " 0.93571429 0.96527778 0.99285714 0.97080292]\n",
      "average_accuracy: 0.967327\n",
      "overall_accuracy: 0.967072\n",
      "score: 0.967072\n"
     ]
    }
   ],
   "source": [
    "from sklearn import metrics\n",
    "import numpy as np\n",
    "#####\n",
    "# Do classification task,\n",
    "# then get the ground truth and the predict label named y_true and y_pred\n",
    "\n",
    "classify_report = metrics.classification_report(y_true, y_pred)\n",
    "confusion_matrix = metrics.confusion_matrix(y_true.argmax(axis=1), y_pred.argmax(axis=1))\n",
    "multilabel_confusion_matrix = metrics.multilabel_confusion_matrix(y_true, y_pred)\n",
    "overall_accuracy = metrics.accuracy_score(y_true, y_pred)\n",
    "acc_for_each_class = metrics.precision_score(y_true, y_pred, average=None)\n",
    "average_accuracy = np.mean(acc_for_each_class)\n",
    "score = metrics.accuracy_score(y_true, y_pred)\n",
    "print('classify_report : \\n', classify_report)\n",
    "print('confusion_matrix : \\n', confusion_matrix)\n",
    "print('multilabel_confusion_matrix : \\n', multilabel_confusion_matrix)\n",
    "print('acc_for_each_class : \\n', acc_for_each_class)\n",
    "print('average_accuracy: {0:f}'.format(average_accuracy))\n",
    "print('overall_accuracy: {0:f}'.format(overall_accuracy))\n",
    "print('score: {0:f}'.format(score))"
   ]
  },
  {
   "cell_type": "code",
   "execution_count": 117,
   "metadata": {},
   "outputs": [
    {
     "data": {
      "image/png": "[encoded data removed]",
      "text/plain": [
       "<Figure size 720x504 with 2 Axes>"
      ]
     },
     "metadata": {},
     "output_type": "display_data"
    }
   ],
   "source": [
    "import seaborn as sn\n",
    "plt.rcParams['font.sans-serif'] = ['SimHei']\n",
    "plt.figure(figsize = (10,7))\n",
    "hm = sn.heatmap(confusion_matrix, annot=True, cmap=\"YlGnBu\")\n",
    "hm.set_title('confusion_matri热力图')\n",
    "hm.set_xlabel('蛋白家族ID对应数值标签')\n",
    "hm.set_ylabel('蛋白家族ID对应数值标签')\n",
    "plt.show()"
   ]
  },
  {
   "cell_type": "markdown",
   "metadata": {
    "colab_type": "text",
    "id": "8Lip5vCthFn_"
   },
   "source": [
    "### Model 2: ProtCNN (https://www.biorxiv.org/content/10.1101/626507v4.full)"
   ]
  },
  {
   "cell_type": "markdown",
   "metadata": {
    "colab_type": "text",
    "id": "wxdIXVy-fDyz"
   },
   "source": [
    "<br/>\n",
    "<center><img src='https://www.biorxiv.org/content/biorxiv/early/2019/07/15/626507/F6.large.jpg' height='470' width='700'></center>\n",
    "\n",
    "<br/>"
   ]
  },
  {
   "cell_type": "markdown",
   "metadata": {
    "colab_type": "text",
    "id": "BgX7fQhjkkcD"
   },
   "source": [
    "- One hot encoded unaligned sequence of amino acids is passed as the input to the network with zero padding.\n",
    "\n",
    "- This network uses residual blocks inspired from [ResNet](https://arxiv.org/abs/1512.03385) architecture which also includes dilated convolutions offering larger receptive field without increasing number of model parameters."
   ]
  },
  {
   "cell_type": "code",
   "execution_count": 63,
   "metadata": {
    "colab": {},
    "colab_type": "code",
    "id": "otNM0HBpZ_CL"
   },
   "outputs": [],
   "source": [
    "def residual_block(data, filters, d_rate):\n",
    "    \"\"\"\n",
    "  _data: input\n",
    "  _filters: convolution filters\n",
    "  _d_rate: dilation rate\n",
    "    \"\"\"\n",
    "\n",
    "    shortcut = data\n",
    "\n",
    "    bn1 = BatchNormalization()(data)\n",
    "    act1 = Activation('relu')(bn1)\n",
    "    conv1 = Conv1D(filters, 1, dilation_rate=d_rate, padding='same', kernel_regularizer=l2(0.001))(act1)\n",
    "\n",
    "  #bottleneck convolution\n",
    "    bn2 = BatchNormalization()(conv1)\n",
    "    act2 = Activation('relu')(bn2)\n",
    "    conv2 = Conv1D(filters, 3, padding='same', kernel_regularizer=l2(0.001))(act2)\n",
    "\n",
    "  #skip connection\n",
    "    x = Add()([conv2, shortcut])\n",
    "\n",
    "    return x"
   ]
  },
  {
   "cell_type": "code",
   "execution_count": 64,
   "metadata": {
    "colab": {
     "base_uri": "https://localhost:8080/",
     "height": 857
    },
    "colab_type": "code",
    "id": "56zf2x_xDCY4",
    "outputId": "a2e8a399-2362-4c01-b395-ebb58b5ffbbe"
   },
   "outputs": [
    {
     "name": "stdout",
     "output_type": "stream",
     "text": [
      "Model: \"model_3\"\n",
      "__________________________________________________________________________________________________\n",
      "Layer (type)                    Output Shape         Param #     Connected to                     \n",
      "==================================================================================================\n",
      "input_4 (InputLayer)            [(None, 100, 21)]    0                                            \n",
      "__________________________________________________________________________________________________\n",
      "conv1d (Conv1D)                 (None, 100, 128)     2816        input_4[0][0]                    \n",
      "__________________________________________________________________________________________________\n",
      "batch_normalization (BatchNorma (None, 100, 128)     512         conv1d[0][0]                     \n",
      "__________________________________________________________________________________________________\n",
      "activation (Activation)         (None, 100, 128)     0           batch_normalization[0][0]        \n",
      "__________________________________________________________________________________________________\n",
      "conv1d_1 (Conv1D)               (None, 100, 128)     16512       activation[0][0]                 \n",
      "__________________________________________________________________________________________________\n",
      "batch_normalization_1 (BatchNor (None, 100, 128)     512         conv1d_1[0][0]                   \n",
      "__________________________________________________________________________________________________\n",
      "activation_1 (Activation)       (None, 100, 128)     0           batch_normalization_1[0][0]      \n",
      "__________________________________________________________________________________________________\n",
      "conv1d_2 (Conv1D)               (None, 100, 128)     49280       activation_1[0][0]               \n",
      "__________________________________________________________________________________________________\n",
      "add (Add)                       (None, 100, 128)     0           conv1d_2[0][0]                   \n",
      "                                                                 conv1d[0][0]                     \n",
      "__________________________________________________________________________________________________\n",
      "batch_normalization_2 (BatchNor (None, 100, 128)     512         add[0][0]                        \n",
      "__________________________________________________________________________________________________\n",
      "activation_2 (Activation)       (None, 100, 128)     0           batch_normalization_2[0][0]      \n",
      "__________________________________________________________________________________________________\n",
      "conv1d_3 (Conv1D)               (None, 100, 128)     16512       activation_2[0][0]               \n",
      "__________________________________________________________________________________________________\n",
      "batch_normalization_3 (BatchNor (None, 100, 128)     512         conv1d_3[0][0]                   \n",
      "__________________________________________________________________________________________________\n",
      "activation_3 (Activation)       (None, 100, 128)     0           batch_normalization_3[0][0]      \n",
      "__________________________________________________________________________________________________\n",
      "conv1d_4 (Conv1D)               (None, 100, 128)     49280       activation_3[0][0]               \n",
      "__________________________________________________________________________________________________\n",
      "add_1 (Add)                     (None, 100, 128)     0           conv1d_4[0][0]                   \n",
      "                                                                 add[0][0]                        \n",
      "__________________________________________________________________________________________________\n",
      "max_pooling1d (MaxPooling1D)    (None, 33, 128)      0           add_1[0][0]                      \n",
      "__________________________________________________________________________________________________\n",
      "dropout_3 (Dropout)             (None, 33, 128)      0           max_pooling1d[0][0]              \n",
      "__________________________________________________________________________________________________\n",
      "flatten (Flatten)               (None, 4224)         0           dropout_3[0][0]                  \n",
      "__________________________________________________________________________________________________\n",
      "dense_3 (Dense)                 (None, 10)           42250       flatten[0][0]                    \n",
      "==================================================================================================\n",
      "Total params: 178,698\n",
      "Trainable params: 177,674\n",
      "Non-trainable params: 1,024\n",
      "__________________________________________________________________________________________________\n"
     ]
    }
   ],
   "source": [
    "# model\n",
    "\n",
    "x_input = Input(shape=(100, 21))\n",
    "\n",
    "#initial conv\n",
    "conv = Conv1D(128, 1, padding='same')(x_input) \n",
    "\n",
    "# per-residue representation\n",
    "res1 = residual_block(conv, 128, 2)\n",
    "res2 = residual_block(res1, 128, 3)\n",
    "\n",
    "x = MaxPooling1D(3)(res2)\n",
    "x = Dropout(0.5)(x)\n",
    "\n",
    "# softmax classifier\n",
    "x = Flatten()(x)\n",
    "x_output = Dense(10, activation='softmax', kernel_regularizer=l2(0.0001))(x)\n",
    "\n",
    "model2 = Model(inputs=x_input, outputs=x_output)\n",
    "model2.compile(optimizer='adam', loss='categorical_crossentropy', metrics=['accuracy'])\n",
    "\n",
    "model2.summary()"
   ]
  },
  {
   "cell_type": "code",
   "execution_count": 65,
   "metadata": {
    "colab": {},
    "colab_type": "code",
    "id": "_gJi_tLlxvfC"
   },
   "outputs": [],
   "source": [
    "# Early Stopping\n",
    "es = EarlyStopping(monitor='val_loss', patience=3, verbose=1)"
   ]
  },
  {
   "cell_type": "code",
   "execution_count": 66,
   "metadata": {
    "colab": {
     "base_uri": "https://localhost:8080/",
     "height": 370
    },
    "colab_type": "code",
    "id": "GeRJYs0wxzBM",
    "outputId": "8dbf7565-ef7e-49bb-a063-94a92ac61917"
   },
   "outputs": [
    {
     "name": "stdout",
     "output_type": "stream",
     "text": [
      "Epoch 1/10\n",
      "44/44 [==============================] - 18s 320ms/step - loss: 1.6265 - accuracy: 0.7140 - val_loss: 1.8617 - val_accuracy: 0.7824\n",
      "Epoch 2/10\n",
      "44/44 [==============================] - 15s 331ms/step - loss: 0.5234 - accuracy: 0.9941 - val_loss: 1.6575 - val_accuracy: 0.7767\n",
      "Epoch 3/10\n",
      "44/44 [==============================] - 14s 329ms/step - loss: 0.4916 - accuracy: 0.9977 - val_loss: 1.4439 - val_accuracy: 0.7573\n",
      "Epoch 4/10\n",
      "44/44 [==============================] - 15s 333ms/step - loss: 0.4611 - accuracy: 0.9990 - val_loss: 1.1585 - val_accuracy: 0.8683\n",
      "Epoch 5/10\n",
      "44/44 [==============================] - 15s 339ms/step - loss: 0.4308 - accuracy: 0.9999 - val_loss: 0.8855 - val_accuracy: 0.9499\n",
      "Epoch 6/10\n",
      "44/44 [==============================] - 15s 332ms/step - loss: 0.4012 - accuracy: 0.9997 - val_loss: 0.6430 - val_accuracy: 0.9921\n",
      "Epoch 7/10\n",
      "44/44 [==============================] - 15s 338ms/step - loss: 0.3702 - accuracy: 1.0000 - val_loss: 0.4849 - val_accuracy: 0.9964\n",
      "Epoch 8/10\n",
      "44/44 [==============================] - 15s 344ms/step - loss: 0.3406 - accuracy: 0.9998 - val_loss: 0.3777 - val_accuracy: 0.9986\n",
      "Epoch 9/10\n",
      "44/44 [==============================] - 15s 332ms/step - loss: 0.3111 - accuracy: 0.9999 - val_loss: 0.3213 - val_accuracy: 0.9986\n",
      "Epoch 10/10\n",
      "44/44 [==============================] - 15s 338ms/step - loss: 0.2830 - accuracy: 0.9999 - val_loss: 0.2799 - val_accuracy: 0.9986\n"
     ]
    }
   ],
   "source": [
    "history2 = model2.fit(\n",
    "    train_ohe, y_train,\n",
    "    epochs=10, batch_size=256,\n",
    "    validation_data=(val_ohe, y_val),\n",
    "    callbacks=[es]\n",
    "    )"
   ]
  },
  {
   "cell_type": "code",
   "execution_count": 68,
   "metadata": {
    "colab": {},
    "colab_type": "code",
    "id": "kK7sr-pBIR2w"
   },
   "outputs": [],
   "source": [
    "# saving model weights.\n",
    "model2.save_weights('D:/googledownload/random_split/model2/')"
   ]
  },
  {
   "cell_type": "code",
   "execution_count": 69,
   "metadata": {
    "colab": {
     "base_uri": "https://localhost:8080/",
     "height": 337
    },
    "colab_type": "code",
    "id": "4uXtCBnR2RGv",
    "outputId": "965f54fb-113b-4a9a-f4d6-024698f0f82d"
   },
   "outputs": [
    {
     "data": {
      "image/png": "[encoded data removed]",
      "text/plain": [
       "<Figure size 864x360 with 2 Axes>"
      ]
     },
     "metadata": {},
     "output_type": "display_data"
    }
   ],
   "source": [
    "plot_history(history2)"
   ]
  },
  {
   "cell_type": "code",
   "execution_count": 70,
   "metadata": {
    "colab": {
     "base_uri": "https://localhost:8080/",
     "height": 202
    },
    "colab_type": "code",
    "id": "z-T9Ula42U11",
    "outputId": "1a39a91d-68a6-4245-fcd2-b5f1818324b8"
   },
   "outputs": [
    {
     "name": "stdout",
     "output_type": "stream",
     "text": [
      "44/44 [==============================] - 3s 70ms/step - loss: 0.2742 - accuracy: 1.0000\n",
      "Train loss:  0.2741888761520386\n",
      "Train accuracy:  1.0\n",
      "----------------------------------------------------------------------\n",
      "6/6 [==============================] - 0s 63ms/step - loss: 0.2799 - accuracy: 0.9986\n",
      "Val loss:  0.27990293502807617\n",
      "Val accuracy:  0.9985683560371399\n",
      "----------------------------------------------------------------------\n",
      "6/6 [==============================] - 0s 66ms/step - loss: 0.2778 - accuracy: 1.0000\n",
      "Test loss:  0.27778077125549316\n",
      "Test accuracy:  1.0\n"
     ]
    }
   ],
   "source": [
    "display_model_score(\n",
    "    model2,\n",
    "    [train_ohe, y_train],\n",
    "    [val_ohe, y_val],\n",
    "    [test_ohe, y_test],\n",
    "    256)"
   ]
  },
  {
   "cell_type": "code",
   "execution_count": 99,
   "metadata": {},
   "outputs": [],
   "source": [
    "y_true = y_test\n",
    "y_pred2 = model2.predict(test_ohe,batch_size = 256)\n",
    "for i in range(len(y_pred2)):\n",
    "    max_value=max(y_pred2[i])\n",
    "    for j in range(len(y_pred2[i])):\n",
    "        if max_value==y_pred2[i][j]:\n",
    "            y_pred2[i][j]=1\n",
    "        else:\n",
    "            y_pred2[i][j]=0"
   ]
  },
  {
   "cell_type": "code",
   "execution_count": 100,
   "metadata": {},
   "outputs": [
    {
     "name": "stdout",
     "output_type": "stream",
     "text": [
      "classify_report : \n",
      "               precision    recall  f1-score   support\n",
      "\n",
      "           0       1.00      1.00      1.00       133\n",
      "           1       1.00      1.00      1.00       143\n",
      "           2       1.00      1.00      1.00       146\n",
      "           3       1.00      1.00      1.00       138\n",
      "           4       1.00      1.00      1.00       138\n",
      "           5       1.00      1.00      1.00       131\n",
      "           6       1.00      1.00      1.00       132\n",
      "           7       1.00      1.00      1.00       146\n",
      "           8       1.00      1.00      1.00       148\n",
      "           9       1.00      1.00      1.00       142\n",
      "\n",
      "   micro avg       1.00      1.00      1.00      1397\n",
      "   macro avg       1.00      1.00      1.00      1397\n",
      "weighted avg       1.00      1.00      1.00      1397\n",
      " samples avg       1.00      1.00      1.00      1397\n",
      "\n",
      "confusion_matrix : \n",
      " [[133   0   0   0   0   0   0   0   0   0]\n",
      " [  0 143   0   0   0   0   0   0   0   0]\n",
      " [  0   0 146   0   0   0   0   0   0   0]\n",
      " [  0   0   0 138   0   0   0   0   0   0]\n",
      " [  0   0   0   0 138   0   0   0   0   0]\n",
      " [  0   0   0   0   0 131   0   0   0   0]\n",
      " [  0   0   0   0   0   0 132   0   0   0]\n",
      " [  0   0   0   0   0   0   0 146   0   0]\n",
      " [  0   0   0   0   0   0   0   0 148   0]\n",
      " [  0   0   0   0   0   0   0   0   0 142]]\n",
      "multilabel_confusion_matrix : \n",
      " [[[1264    0]\n",
      "  [   0  133]]\n",
      "\n",
      " [[1254    0]\n",
      "  [   0  143]]\n",
      "\n",
      " [[1251    0]\n",
      "  [   0  146]]\n",
      "\n",
      " [[1259    0]\n",
      "  [   0  138]]\n",
      "\n",
      " [[1259    0]\n",
      "  [   0  138]]\n",
      "\n",
      " [[1266    0]\n",
      "  [   0  131]]\n",
      "\n",
      " [[1265    0]\n",
      "  [   0  132]]\n",
      "\n",
      " [[1251    0]\n",
      "  [   0  146]]\n",
      "\n",
      " [[1249    0]\n",
      "  [   0  148]]\n",
      "\n",
      " [[1255    0]\n",
      "  [   0  142]]]\n",
      "acc_for_each_class : \n",
      " [1. 1. 1. 1. 1. 1. 1. 1. 1. 1.]\n",
      "average_accuracy: 1.000000\n",
      "overall_accuracy: 1.000000\n",
      "score: 1.000000\n"
     ]
    }
   ],
   "source": [
    "from sklearn import metrics\n",
    "import numpy as np\n",
    "#####\n",
    "# Do classification task,\n",
    "# then get the ground truth and the predict label named y_true and y_pred\n",
    "\n",
    "classify_report2 = metrics.classification_report(y_true, y_pred2)\n",
    "confusion_matrix2 = metrics.confusion_matrix(y_true.argmax(axis=1), y_pred2.argmax(axis=1))\n",
    "multilabel_confusion_matrix2 = metrics.multilabel_confusion_matrix(y_true, y_pred2)\n",
    "overall_accuracy2 = metrics.accuracy_score(y_true, y_pred2)\n",
    "acc_for_each_class2 = metrics.precision_score(y_true, y_pred2, average=None)\n",
    "average_accuracy2 = np.mean(acc_for_each_class2)\n",
    "score2 = metrics.accuracy_score(y_true, y_pred2)\n",
    "print('classify_report : \\n', classify_report2)\n",
    "print('confusion_matrix : \\n', confusion_matrix2)\n",
    "print('multilabel_confusion_matrix : \\n', multilabel_confusion_matrix2)\n",
    "print('acc_for_each_class : \\n', acc_for_each_class2)\n",
    "print('average_accuracy: {0:f}'.format(average_accuracy2))\n",
    "print('overall_accuracy: {0:f}'.format(overall_accuracy2))\n",
    "print('score: {0:f}'.format(score2))"
   ]
  },
  {
   "cell_type": "code",
   "execution_count": 118,
   "metadata": {},
   "outputs": [
    {
     "data": {
      "image/png": "[encoded data removed]",
      "text/plain": [
       "<Figure size 720x504 with 2 Axes>"
      ]
     },
     "metadata": {},
     "output_type": "display_data"
    }
   ],
   "source": [
    "import seaborn as sn\n",
    "\n",
    "plt.rcParams['font.sans-serif'] = ['SimHei']\n",
    "plt.figure(figsize = (10,7))\n",
    "cmap = sn.cubehelix_palette(start = 1.5, rot = 3, gamma=0.8, as_cmap = True)\n",
    "hm = sn.heatmap(confusion_matrix2, annot=True, cmap=cmap)\n",
    "hm.set_title('confusion_matri热力图')\n",
    "hm.set_xlabel('蛋白家族ID对应数值标签')\n",
    "hm.set_ylabel('蛋白家族ID对应数值标签')\n",
    "plt.show()"
   ]
  },
  {
   "cell_type": "markdown",
   "metadata": {
    "colab_type": "text",
    "id": "3u42Zf2bLxmM"
   },
   "source": [
    "## 5. Conclusion"
   ]
  },
  {
   "cell_type": "code",
   "execution_count": 71,
   "metadata": {
    "colab": {
     "base_uri": "https://localhost:8080/",
     "height": 118
    },
    "colab_type": "code",
    "id": "MyPhPwMnL0af",
    "outputId": "68557968-a045-4171-afd1-d5bb435d793e"
   },
   "outputs": [
    {
     "name": "stdout",
     "output_type": "stream",
     "text": [
      "+-------+--------------------+-----------+---------+----------+\n",
      "| Sr.no |       Model        | Train Acc | Val Acc | Test Acc |\n",
      "+-------+--------------------+-----------+---------+----------+\n",
      "|   1.  | Bidirectional LSTM |   0.964   |  0.957  |  0.958   |\n",
      "|   2.  |      ProtCNN       |   0.996   |  0.988  |  0.988   |\n",
      "+-------+--------------------+-----------+---------+----------+\n"
     ]
    }
   ],
   "source": [
    "x = PrettyTable()\n",
    "x.field_names = ['Sr.no', 'Model', 'Train Acc', 'Val Acc','Test Acc']\n",
    "\n",
    "x.add_row(['1.', 'Bidirectional LSTM', '0.964', '0.957', '0.958'])\n",
    "x.add_row(['2.', 'ProtCNN', '0.996', '0.988', '0.988'])\n",
    "\n",
    "print(x)"
   ]
  },
  {
   "cell_type": "markdown",
   "metadata": {
    "colab_type": "text",
    "id": "OY0HAjgRQwii"
   },
   "source": [
    "### Reference:\n",
    "\n",
    "- https://www.biorxiv.org/content/10.1101/626507v4.full"
   ]
  }
 ],
 "metadata": {
  "accelerator": "GPU",
  "colab": {
   "collapsed_sections": [
    "y_dDnHNus7SL",
    "KmJ2E-Krs_xt",
    "jtyg15A6ATsS",
    "ylHPrtMlBvyB",
    "xdkPtpHiB45Y",
    "CUfCZp0ICwaF",
    "GCPrxSoI5jQZ",
    "lqRU2FBxezKq",
    "sRXFL8RwlZGZ",
    "7XvpRxecd_B1",
    "LFxzvA1oeJGm",
    "08mVHtLVfCmp",
    "LHh3AXwNp7Yv"
   ],
   "machine_shape": "hm",
   "name": "Copy of Pfam_protein_sequence_classification.ipynb",
   "provenance": []
  },
  "kernelspec": {
   "display_name": "Python 3",
   "language": "python",
   "name": "python3"
  },
  "language_info": {
   "codemirror_mode": {
    "name": "ipython",
    "version": 3
   },
   "file_extension": ".py",
   "mimetype": "text/x-python",
   "name": "python",
   "nbconvert_exporter": "python",
   "pygments_lexer": "ipython3",
   "version": "3.8.5"
  }
 },
 "nbformat": 4,
 "nbformat_minor": 1
}
