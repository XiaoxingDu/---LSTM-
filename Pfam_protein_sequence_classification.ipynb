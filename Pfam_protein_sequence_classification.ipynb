{
 "cells": [
  {
   "cell_type": "markdown",
   "metadata": {
    "colab_type": "text",
    "id": "iAHSXYnksSBj"
   },
   "source": [
    "# Protein Sequence Classification on pfam dataset"
   ]
  },
  {
   "cell_type": "markdown",
   "metadata": {
    "colab_type": "text",
    "id": "y_dDnHNus7SL"
   },
   "source": [
    "## 1. Business Problem"
   ]
  },
  {
   "cell_type": "markdown",
   "metadata": {
    "colab_type": "text",
    "id": "KmJ2E-Krs_xt"
   },
   "source": [
    "### 1.1 Description"
   ]
  },
  {
   "cell_type": "markdown",
   "metadata": {
    "colab_type": "text",
    "id": "MDx-UEBztDpK"
   },
   "source": [
    "[Proteins](https://en.wikipedia.org/wiki/Protein) are large, complex biomolecules that play many critical roles in biological bodies. Proteins are made up of one or more long chains of [amino acids](https://en.wikipedia.org/wiki/Amino_acid) sequences. These Sequence are the arrangement of amino acids in a protein held together by [peptide bonds](https://en.wikipedia.org/wiki/Peptide_bond). Proteins can be made from [20](https://www.hornetjuice.com/amino-acids-types/) different kinds of amino acids, and the structure and function of each protein are determined by the kinds of amino acids used to make it and how they are arranged. \n",
    "\n",
    "Understanding this relationship between amino acid sequence and protein function is a long-standing problem in moleculer biology with far-reaching scientific implications. Can we use deep learning that learns the relationship between unaligned amino acid sequences and their functional annotations across all 17929 families of the Pfam database.\n",
    "\n",
    "[Pfam](https://en.m.wikipedia.org/wiki/Pfam) is a database of [protein families](https://en.m.wikipedia.org/wiki/Protein_family) that includes their annotations and multiple sequence alignments.\n",
    "\n",
    "__Problem Statement__\n",
    "- Classification of protein's amino acid sequence to one of the protein family accession, based on PFam dataset.\n",
    "- In other words, the task is: given the amino acid sequence of the protein domain, predict which class it belongs to.\n"
   ]
  },
  {
   "cell_type": "markdown",
   "metadata": {
    "colab_type": "text",
    "id": "jtyg15A6ATsS"
   },
   "source": [
    "### 1.2 Sources/Useful Links"
   ]
  },
  {
   "cell_type": "markdown",
   "metadata": {
    "colab_type": "text",
    "id": "uPZiBF6ca_Sh"
   },
   "source": [
    "- Source: [Pfam seed random split](https://www.kaggle.com/googleai/pfam-seed-random-split)\n",
    "- Paper: [Using deep learning to annotate the protein universe](https://www.biorxiv.org/content/10.1101/626507v4.full)."
   ]
  },
  {
   "cell_type": "markdown",
   "metadata": {
    "colab_type": "text",
    "id": "eF6y4ZtNBAaY"
   },
   "source": [
    "### 1.3 Real world/Business Objectives and Constraints"
   ]
  },
  {
   "cell_type": "markdown",
   "metadata": {
    "colab_type": "text",
    "id": "0U6WEFA3BI0S"
   },
   "source": [
    "Objectives\n",
    "- Predict protein family accession from its amino acids sequence with high accuracy.\n",
    "\n",
    "Constraints\n",
    "- No strict latency concerns."
   ]
  },
  {
   "cell_type": "markdown",
   "metadata": {
    "colab_type": "text",
    "id": "ylHPrtMlBvyB"
   },
   "source": [
    "## 2. Machine Learning Problem"
   ]
  },
  {
   "cell_type": "markdown",
   "metadata": {
    "colab_type": "text",
    "id": "xdkPtpHiB45Y"
   },
   "source": [
    "### 2.1 Data"
   ]
  },
  {
   "cell_type": "markdown",
   "metadata": {
    "colab_type": "text",
    "id": "Vn03S7RtB8XS"
   },
   "source": [
    "#### 2.1.1 Data Overview"
   ]
  },
  {
   "cell_type": "markdown",
   "metadata": {
    "colab_type": "text",
    "id": "0R9yCaZiB_76"
   },
   "source": [
    "- `sequence`: These are usually the input features to the model. Amino acid sequence for this domain. There are 20 very common amino acids (frequency > 1,000,000), and 4 amino acids that are quite uncommon: X, U, B, O, Z.\n",
    "\n",
    "- `family_accession`: These are usually the labels for the model. Accession number in form PFxxxxx.y (Pfam), where xxxxx is the family accession, and y is the version number. Some values of y are greater than ten, and so 'y' has two digits.\n",
    "\n",
    "- `sequence_name`: Sequence name, in the form \"uniprot_accession_id/start_index-end_index\". \n",
    "\n",
    "- `aligned_sequence`: Contains a single sequence from the multiple sequence alignment (with the rest of the members of the family in seed, with gaps retained.\n",
    "\n",
    "- `family_id`: One word name for family. "
   ]
  },
  {
   "cell_type": "markdown",
   "metadata": {
    "colab_type": "text",
    "id": "u12YlDWcCr66"
   },
   "source": [
    "#### 2.1.2 Example Data point"
   ]
  },
  {
   "cell_type": "markdown",
   "metadata": {
    "colab_type": "text",
    "id": "OtOApClbCDfM"
   },
   "source": [
    "\n",
    "\n",
    "```\n",
    "sequence: HWLQMRDSMNTYNNMVNRCFATCIRSFQEKKVNAEEMDCTKRCVTKFVGYSQRVALRFAE \n",
    "family_accession: PF02953.15\n",
    "sequence_name: C5K6N5_PERM5/28-87\n",
    "aligned_sequence: ....HWLQMRDSMNTYNNMVNRCFATCI...........RS.F....QEKKVNAEE.....MDCT....KRCVTKFVGYSQRVALRFAE \n",
    "family_id: zf-Tim10_DDP\n",
    "```\n",
    "\n"
   ]
  },
  {
   "cell_type": "markdown",
   "metadata": {
    "colab_type": "text",
    "id": "z4tAp7Xrb5gX"
   },
   "source": [
    "#### 2.1.3 Data split"
   ]
  },
  {
   "cell_type": "markdown",
   "metadata": {
    "colab_type": "text",
    "id": "Cq-WD5arGu7x"
   },
   "source": [
    "- We have been provided with already done random split(train, val, test) of pfam dataset.\n",
    "  - Train - 80% (For training the models).\n",
    "  - Val - 10% (For hyperparameter tuning/model validation).\n",
    "  - Test - 10% (For acessing the model performance)."
   ]
  },
  {
   "cell_type": "markdown",
   "metadata": {
    "colab_type": "text",
    "id": "CUfCZp0ICwaF"
   },
   "source": [
    "### 2.2 Mapping the real world problem to an ML problem"
   ]
  },
  {
   "cell_type": "markdown",
   "metadata": {
    "colab_type": "text",
    "id": "24iT472YC2J-"
   },
   "source": [
    "#### 2.2.1 Type of Machine learning Problem"
   ]
  },
  {
   "cell_type": "markdown",
   "metadata": {
    "colab_type": "text",
    "id": "S7QCMBQJDIDw"
   },
   "source": [
    "It is a multi class classification problem, for a given sequence of amino acids we need to predict its family accession."
   ]
  },
  {
   "cell_type": "markdown",
   "metadata": {
    "colab_type": "text",
    "id": "qnlBgZX8DVP2"
   },
   "source": [
    "#### 2.2.2 Performance Metric"
   ]
  },
  {
   "cell_type": "markdown",
   "metadata": {
    "colab_type": "text",
    "id": "SZ5tn5EmDdYe"
   },
   "source": [
    "- Multi class log loss\n",
    "- Accuracy"
   ]
  },
  {
   "cell_type": "markdown",
   "metadata": {
    "colab_type": "text",
    "id": "zQJnjfq1D6Js"
   },
   "source": [
    "## 3. Exploratory Data Analysis"
   ]
  },
  {
   "cell_type": "markdown",
   "metadata": {
    "colab_type": "text",
    "id": "2YlZeBjv5ejk"
   },
   "source": [
    "### Importing Libraries"
   ]
  },
  {
   "cell_type": "code",
   "execution_count": 84,
   "metadata": {
    "colab": {
     "base_uri": "https://localhost:8080/",
     "height": 34
    },
    "colab_type": "code",
    "id": "EqLtXwPchzZf",
    "outputId": "6d590203-8c02-4e96-ec23-d7d9cdb1d92f"
   },
   "outputs": [],
   "source": [
    "%matplotlib inline\n",
    "\n",
    "import os\n",
    "import gc\n",
    "\n",
    "import numpy as np\n",
    "import pandas as pd\n",
    "import matplotlib.pyplot as plt\n",
    "import seaborn as sns\n",
    "\n",
    "from collections import Counter\n",
    "from prettytable import PrettyTable\n",
    "from IPython.display import Image\n",
    "\n",
    "from sklearn.preprocessing import LabelEncoder\n",
    "\n",
    "from keras.models import Model\n",
    "from keras.regularizers import l2\n",
    "from keras.constraints import max_norm\n",
    "#from keras.utils import to_categorical\n",
    "from tensorflow.python.keras.utils.np_utils import to_categorical\n",
    "from keras.preprocessing.text import Tokenizer\n",
    "from keras.preprocessing.sequence import pad_sequences\n",
    "from keras.callbacks import EarlyStopping\n",
    "from keras.layers import Input, Dense, Dropout, Flatten, Activation\n",
    "from keras.layers import Conv1D, Add, MaxPooling1D, BatchNormalization\n",
    "from keras.layers import Embedding, Bidirectional,  GlobalMaxPooling1D, LSTM\n",
    "#from tensorflow.compat.v1.keras.layers import LSTM"
   ]
  },
  {
   "cell_type": "code",
   "execution_count": 85,
   "metadata": {
    "colab": {},
    "colab_type": "code",
    "id": "a_k-q8gv_J2_"
   },
   "outputs": [],
   "source": [
    "import tensorflow as tf\n",
    "tf.compat.v1.logging.set_verbosity(tf.compat.v1.logging.ERROR)"
   ]
  },
  {
   "cell_type": "code",
   "execution_count": 86,
   "metadata": {
    "colab": {},
    "colab_type": "code",
    "id": "L4wU9AP3jYWU"
   },
   "outputs": [],
   "source": [
    "#from google.colab import drive\n",
    "#drive.mount('/content/drive')"
   ]
  },
  {
   "cell_type": "markdown",
   "metadata": {
    "colab_type": "text",
    "id": "GCPrxSoI5jQZ"
   },
   "source": [
    "### Loading Data"
   ]
  },
  {
   "cell_type": "code",
   "execution_count": 45,
   "metadata": {
    "colab": {
     "base_uri": "https://localhost:8080/",
     "height": 34
    },
    "colab_type": "code",
    "id": "Is-kuTuGzYGN",
    "outputId": "270d71b8-6772-4a6a-b7b1-0cdbdee0353e"
   },
   "outputs": [
    {
     "name": "stdout",
     "output_type": "stream",
     "text": [
      "Available data ['dev', 'test', 'train']\n"
     ]
    }
   ],
   "source": [
    "data_path = 'D:/googledownload/random_split/random_split'\n",
    "print('Available data', os.listdir(data_path))"
   ]
  },
  {
   "cell_type": "code",
   "execution_count": 46,
   "metadata": {
    "colab": {},
    "colab_type": "code",
    "id": "4NrlxI8tiIww"
   },
   "outputs": [],
   "source": [
    "# https://www.kaggle.com/drewbryant/starter-pfam-seed-random-split\n",
    "\n",
    "# data is randomly splitted in three folders [train(80%), test(10%), dev(10%)]\n",
    "# reading and concatinating data for each folder.\n",
    "\n",
    "def read_data(partition):\n",
    "    data = []\n",
    "    for fn in os.listdir(os.path.join(data_path, partition)):\n",
    "        with open(os.path.join(data_path, partition, fn)) as f:\n",
    "            data.append(pd.read_csv(f, index_col=None))\n",
    "    return pd.concat(data)"
   ]
  },
  {
   "cell_type": "code",
   "execution_count": 47,
   "metadata": {
    "colab": {},
    "colab_type": "code",
    "id": "Xy25Vu-K3MvW"
   },
   "outputs": [],
   "source": [
    "# reading all data_partitions\n",
    "\n",
    "df_train = read_data('train')\n",
    "df_val = read_data('dev')\n",
    "df_test = read_data('test')"
   ]
  },
  {
   "cell_type": "markdown",
   "metadata": {
    "colab_type": "text",
    "id": "lqRU2FBxezKq"
   },
   "source": [
    "### Basic Statistics"
   ]
  },
  {
   "cell_type": "code",
   "execution_count": 48,
   "metadata": {
    "colab": {
     "base_uri": "https://localhost:8080/",
     "height": 185
    },
    "colab_type": "code",
    "id": "pj2uvMN6pw7Y",
    "outputId": "e9850a9f-44da-4804-940c-0dce9d7998d0"
   },
   "outputs": [
    {
     "name": "stdout",
     "output_type": "stream",
     "text": [
      "<class 'pandas.core.frame.DataFrame'>\n",
      "Int64Index: 1086741 entries, 0 to 13514\n",
      "Data columns (total 5 columns):\n",
      " #   Column            Non-Null Count    Dtype \n",
      "---  ------            --------------    ----- \n",
      " 0   family_id         1086741 non-null  object\n",
      " 1   sequence_name     1086741 non-null  object\n",
      " 2   family_accession  1086741 non-null  object\n",
      " 3   aligned_sequence  1086741 non-null  object\n",
      " 4   sequence          1086741 non-null  object\n",
      "dtypes: object(5)\n",
      "memory usage: 49.7+ MB\n"
     ]
    }
   ],
   "source": [
    "df_train.info()"
   ]
  },
  {
   "cell_type": "code",
   "execution_count": 49,
   "metadata": {
    "colab": {
     "base_uri": "https://localhost:8080/",
     "height": 195
    },
    "colab_type": "code",
    "id": "fvvyiT4PTlew",
    "outputId": "e5d8d420-9d92-43bf-99a2-6f5408e5d398"
   },
   "outputs": [
    {
     "data": {
      "text/html": [
       "<div>\n",
       "<style scoped>\n",
       "    .dataframe tbody tr th:only-of-type {\n",
       "        vertical-align: middle;\n",
       "    }\n",
       "\n",
       "    .dataframe tbody tr th {\n",
       "        vertical-align: top;\n",
       "    }\n",
       "\n",
       "    .dataframe thead th {\n",
       "        text-align: right;\n",
       "    }\n",
       "</style>\n",
       "<table border=\"1\" class=\"dataframe\">\n",
       "  <thead>\n",
       "    <tr style=\"text-align: right;\">\n",
       "      <th></th>\n",
       "      <th>family_id</th>\n",
       "      <th>sequence_name</th>\n",
       "      <th>family_accession</th>\n",
       "      <th>aligned_sequence</th>\n",
       "      <th>sequence</th>\n",
       "    </tr>\n",
       "  </thead>\n",
       "  <tbody>\n",
       "    <tr>\n",
       "      <th>0</th>\n",
       "      <td>GMC_oxred_C</td>\n",
       "      <td>A4WZS5_RHOS5/416-539</td>\n",
       "      <td>PF05199.13</td>\n",
       "      <td>PHPE.SRIRLST.RRDAHGMP.....IP.RIESRLGP............</td>\n",
       "      <td>PHPESRIRLSTRRDAHGMPIPRIESRLGPDAFARLRFMARTCRAIL...</td>\n",
       "    </tr>\n",
       "    <tr>\n",
       "      <th>1</th>\n",
       "      <td>DUF2887</td>\n",
       "      <td>K9QI92_9NOSO/3-203</td>\n",
       "      <td>PF11103.8</td>\n",
       "      <td>RDSIYYQIFKRFPALIFEL..VD.NRPPQAQNYRFESVEVKETAFR...</td>\n",
       "      <td>RDSIYYQIFKRFPALIFELVDNRPPQAQNYRFESVEVKETAFRIDG...</td>\n",
       "    </tr>\n",
       "    <tr>\n",
       "      <th>2</th>\n",
       "      <td>zf-IS66</td>\n",
       "      <td>Q92LC9_RHIME/32-75</td>\n",
       "      <td>PF13005.7</td>\n",
       "      <td>.TCCPDCGG.E..LRLVGED.AS....EILDMI.AAQMKVIEVARL...</td>\n",
       "      <td>TCCPDCGGELRLVGEDASEILDMIAAQMKVIEVARLKKSCRCCE</td>\n",
       "    </tr>\n",
       "    <tr>\n",
       "      <th>3</th>\n",
       "      <td>Asp_decarbox</td>\n",
       "      <td>X2GQZ4_9BACI/1-115</td>\n",
       "      <td>PF02261.16</td>\n",
       "      <td>MLRMMMNSKIHRATVTEADLNYVGSITIDEDILDAVGMLPNEKVHI...</td>\n",
       "      <td>MLRMMMNSKIHRATVTEADLNYVGSITIDEDILDAVGMLPNEKVHI...</td>\n",
       "    </tr>\n",
       "    <tr>\n",
       "      <th>4</th>\n",
       "      <td>Filamin</td>\n",
       "      <td>A7SQM3_NEMVE/342-439</td>\n",
       "      <td>PF00630.19</td>\n",
       "      <td>TACPKQ.CTA....RGLG.............LK.AAPVT.QPT..R...</td>\n",
       "      <td>TACPKQCTARGLGLKAAPVTQPTRFVVILNDCHGQPLGRSEGELEV...</td>\n",
       "    </tr>\n",
       "  </tbody>\n",
       "</table>\n",
       "</div>"
      ],
      "text/plain": [
       "      family_id         sequence_name family_accession  \\\n",
       "0   GMC_oxred_C  A4WZS5_RHOS5/416-539       PF05199.13   \n",
       "1       DUF2887    K9QI92_9NOSO/3-203        PF11103.8   \n",
       "2       zf-IS66    Q92LC9_RHIME/32-75        PF13005.7   \n",
       "3  Asp_decarbox    X2GQZ4_9BACI/1-115       PF02261.16   \n",
       "4       Filamin  A7SQM3_NEMVE/342-439       PF00630.19   \n",
       "\n",
       "                                    aligned_sequence  \\\n",
       "0  PHPE.SRIRLST.RRDAHGMP.....IP.RIESRLGP............   \n",
       "1  RDSIYYQIFKRFPALIFEL..VD.NRPPQAQNYRFESVEVKETAFR...   \n",
       "2  .TCCPDCGG.E..LRLVGED.AS....EILDMI.AAQMKVIEVARL...   \n",
       "3  MLRMMMNSKIHRATVTEADLNYVGSITIDEDILDAVGMLPNEKVHI...   \n",
       "4  TACPKQ.CTA....RGLG.............LK.AAPVT.QPT..R...   \n",
       "\n",
       "                                            sequence  \n",
       "0  PHPESRIRLSTRRDAHGMPIPRIESRLGPDAFARLRFMARTCRAIL...  \n",
       "1  RDSIYYQIFKRFPALIFELVDNRPPQAQNYRFESVEVKETAFRIDG...  \n",
       "2       TCCPDCGGELRLVGEDASEILDMIAAQMKVIEVARLKKSCRCCE  \n",
       "3  MLRMMMNSKIHRATVTEADLNYVGSITIDEDILDAVGMLPNEKVHI...  \n",
       "4  TACPKQCTARGLGLKAAPVTQPTRFVVILNDCHGQPLGRSEGELEV...  "
      ]
     },
     "execution_count": 49,
     "metadata": {},
     "output_type": "execute_result"
    }
   ],
   "source": [
    "df_train.head()"
   ]
  },
  {
   "cell_type": "code",
   "execution_count": 50,
   "metadata": {
    "colab": {
     "base_uri": "https://localhost:8080/",
     "height": 34
    },
    "colab_type": "code",
    "id": "FZD6gGJLd7uB",
    "outputId": "bf474ea4-43a3-4e4e-d154-350b18cef59f"
   },
   "outputs": [
    {
     "data": {
      "text/plain": [
       "'PHPESRIRLSTRRDAHGMPIPRIESRLGPDAFARLRFMARTCRAILAAAGCAAPFEEFSSADAFSSTHVFGTCRMGHDPMRNVVDGWGRSHRWPNLFVADASLFPSSGGGESPGLTIQALALRT'"
      ]
     },
     "execution_count": 50,
     "metadata": {},
     "output_type": "execute_result"
    }
   ],
   "source": [
    "# ex: unaligned sequence\n",
    "# each character reperesents one of the 24(20 common + 4 uncommon) amino acids in the sequence.\n",
    "\n",
    "df_train.head(1)['sequence'].values[0]"
   ]
  },
  {
   "cell_type": "code",
   "execution_count": 51,
   "metadata": {
    "colab": {
     "base_uri": "https://localhost:8080/",
     "height": 67
    },
    "colab_type": "code",
    "id": "lYmykaXe3aKy",
    "outputId": "6df755e5-a1ca-4c71-e3eb-bbd939264790"
   },
   "outputs": [
    {
     "name": "stdout",
     "output_type": "stream",
     "text": [
      "Train size:  1086741\n",
      "Val size:  126171\n",
      "Test size:  126171\n"
     ]
    }
   ],
   "source": [
    "# Given data size\n",
    "print('Train size: ', len(df_train))\n",
    "print('Val size: ', len(df_val))\n",
    "print('Test size: ', len(df_test))"
   ]
  },
  {
   "cell_type": "code",
   "execution_count": 52,
   "metadata": {
    "colab": {},
    "colab_type": "code",
    "id": "hmjg-CbQyioF"
   },
   "outputs": [],
   "source": [
    "def calc_unique_cls(train, test, val):\n",
    "    \"\"\"\n",
    "    Prints # unique classes in data sets.\n",
    "    \"\"\"\n",
    "    train_unq = np.unique(train['family_accession'].values)\n",
    "    val_unq = np.unique(val['family_accession'].values)\n",
    "    test_unq = np.unique(test['family_accession'].values)\n",
    "\n",
    "    print('Number of unique classes in Train: ', len(train_unq))\n",
    "    print('Number of unique classes in Val: ', len(val_unq))\n",
    "    print('Number of unique classes in Test: ', len(test_unq))"
   ]
  },
  {
   "cell_type": "code",
   "execution_count": 53,
   "metadata": {
    "colab": {
     "base_uri": "https://localhost:8080/",
     "height": 67
    },
    "colab_type": "code",
    "id": "-2r0wIsBiy-c",
    "outputId": "a13676ba-448c-467e-a2ec-42b81b1a83d3"
   },
   "outputs": [
    {
     "name": "stdout",
     "output_type": "stream",
     "text": [
      "Number of unique classes in Train:  17929\n",
      "Number of unique classes in Val:  13071\n",
      "Number of unique classes in Test:  13071\n"
     ]
    }
   ],
   "source": [
    "# Unique classes in the given dataset : [df_train, df_val and df_test]\n",
    "\n",
    "calc_unique_cls(df_train, df_test, df_val)"
   ]
  },
  {
   "cell_type": "markdown",
   "metadata": {
    "colab_type": "text",
    "id": "7XvpRxecd_B1"
   },
   "source": [
    "### Sequence Counts"
   ]
  },
  {
   "cell_type": "code",
   "execution_count": 54,
   "metadata": {
    "colab": {},
    "colab_type": "code",
    "id": "ViaJx_Peu5y_"
   },
   "outputs": [],
   "source": [
    "# Length of sequence in train data.\n",
    "df_train['seq_char_count']= df_train['sequence'].apply(lambda x: len(x))\n",
    "df_val['seq_char_count']= df_val['sequence'].apply(lambda x: len(x))\n",
    "df_test['seq_char_count']= df_test['sequence'].apply(lambda x: len(x))"
   ]
  },
  {
   "cell_type": "code",
   "execution_count": 55,
   "metadata": {
    "colab": {},
    "colab_type": "code",
    "id": "ATEmEmeAYoeB"
   },
   "outputs": [],
   "source": [
    "def plot_seq_count(df, data_name):\n",
    "    sns.distplot(df['seq_char_count'].values)\n",
    "    plt.title(f'Sequence char count: {data_name}')\n",
    "    plt.grid(True)"
   ]
  },
  {
   "cell_type": "code",
   "execution_count": 56,
   "metadata": {
    "colab": {
     "base_uri": "https://localhost:8080/",
     "height": 282
    },
    "colab_type": "code",
    "id": "G1Mo0m3yFAFu",
    "outputId": "43fff7b5-7292-40c1-e8a5-cec23b7065ad"
   },
   "outputs": [
    {
     "name": "stderr",
     "output_type": "stream",
     "text": [
      "C:\\ProgramData\\Anaconda3\\lib\\site-packages\\seaborn\\distributions.py:2551: FutureWarning: `distplot` is a deprecated function and will be removed in a future version. Please adapt your code to use either `displot` (a figure-level function with similar flexibility) or `histplot` (an axes-level function for histograms).\n",
      "  warnings.warn(msg, FutureWarning)\n",
      "C:\\ProgramData\\Anaconda3\\lib\\site-packages\\seaborn\\distributions.py:2551: FutureWarning: `distplot` is a deprecated function and will be removed in a future version. Please adapt your code to use either `displot` (a figure-level function with similar flexibility) or `histplot` (an axes-level function for histograms).\n",
      "  warnings.warn(msg, FutureWarning)\n",
      "C:\\ProgramData\\Anaconda3\\lib\\site-packages\\seaborn\\distributions.py:2551: FutureWarning: `distplot` is a deprecated function and will be removed in a future version. Please adapt your code to use either `displot` (a figure-level function with similar flexibility) or `histplot` (an axes-level function for histograms).\n",
      "  warnings.warn(msg, FutureWarning)\n"
     ]
    },
    {
     "data": {
      "image/png": "[encoded data removed]",
      "text/plain": [
       "<Figure size 432x288 with 3 Axes>"
      ]
     },
     "metadata": {
      "needs_background": "light"
     },
     "output_type": "display_data"
    }
   ],
   "source": [
    "plt.subplot(1, 3, 1)\n",
    "plot_seq_count(df_train, 'Train')\n",
    "\n",
    "plt.subplot(1, 3, 2)\n",
    "plot_seq_count(df_val, 'Val')\n",
    "\n",
    "plt.subplot(1, 3, 3)\n",
    "plot_seq_count(df_test, 'Test')\n",
    "\n",
    "plt.subplots_adjust(right=3.0)\n",
    "plt.show()"
   ]
  },
  {
   "cell_type": "markdown",
   "metadata": {
    "colab_type": "text",
    "id": "-ZIi2DB6bLpc"
   },
   "source": [
    "__Observation__\n",
    "- Most of the unaligned amino acid sequences have character counts in the range of 50-250."
   ]
  },
  {
   "cell_type": "markdown",
   "metadata": {
    "colab_type": "text",
    "id": "LFxzvA1oeJGm"
   },
   "source": [
    "### Sequence Code Frequency"
   ]
  },
  {
   "cell_type": "markdown",
   "metadata": {},
   "source": [
    "Amino acid sequences are represented with their corresponding 1 letter code, for example, code for alanine is (A), arginine is (R) and so on. The complete list of amino acids with there code can be found <a href='http://www.cryst.bbk.ac.uk/education/AminoAcid/the_twenty.html'>here</a>."
   ]
  },
  {
   "cell_type": "code",
   "execution_count": 57,
   "metadata": {
    "colab": {},
    "colab_type": "code",
    "id": "Mm54TAoH_C8t"
   },
   "outputs": [],
   "source": [
    "def get_code_freq(df, data_name):\n",
    "  \n",
    "    df = df.apply(lambda x: \" \".join(x))\n",
    "  \n",
    "    codes = []\n",
    "    for i in df: # concatination of all codes\n",
    "        codes.extend(i)\n",
    "\n",
    "    codes_dict= Counter(codes)\n",
    "    codes_dict.pop(' ') # removing white space\n",
    "  \n",
    "    print(f'Codes: {data_name}')\n",
    "    print(f'Total unique codes: {len(codes_dict.keys())}')\n",
    "\n",
    "    df = pd.DataFrame({'Code': list(codes_dict.keys()), 'Freq': list(codes_dict.values())})\n",
    "    return df.sort_values('Freq', ascending=False).reset_index()[['Code', 'Freq']]"
   ]
  },
  {
   "cell_type": "code",
   "execution_count": 58,
   "metadata": {
    "colab": {
     "base_uri": "https://localhost:8080/",
     "height": 821
    },
    "colab_type": "code",
    "id": "lekmtCh9KXrY",
    "outputId": "c2bcd5c7-0cb4-448e-cb28-ec8786f81fbc"
   },
   "outputs": [
    {
     "name": "stdout",
     "output_type": "stream",
     "text": [
      "Codes: Train\n",
      "Total unique codes: 25\n"
     ]
    },
    {
     "data": {
      "text/html": [
       "<div>\n",
       "<style scoped>\n",
       "    .dataframe tbody tr th:only-of-type {\n",
       "        vertical-align: middle;\n",
       "    }\n",
       "\n",
       "    .dataframe tbody tr th {\n",
       "        vertical-align: top;\n",
       "    }\n",
       "\n",
       "    .dataframe thead th {\n",
       "        text-align: right;\n",
       "    }\n",
       "</style>\n",
       "<table border=\"1\" class=\"dataframe\">\n",
       "  <thead>\n",
       "    <tr style=\"text-align: right;\">\n",
       "      <th></th>\n",
       "      <th>Code</th>\n",
       "      <th>Freq</th>\n",
       "    </tr>\n",
       "  </thead>\n",
       "  <tbody>\n",
       "    <tr>\n",
       "      <th>0</th>\n",
       "      <td>L</td>\n",
       "      <td>17062816</td>\n",
       "    </tr>\n",
       "    <tr>\n",
       "      <th>1</th>\n",
       "      <td>A</td>\n",
       "      <td>14384873</td>\n",
       "    </tr>\n",
       "    <tr>\n",
       "      <th>2</th>\n",
       "      <td>V</td>\n",
       "      <td>11913147</td>\n",
       "    </tr>\n",
       "    <tr>\n",
       "      <th>3</th>\n",
       "      <td>G</td>\n",
       "      <td>11845579</td>\n",
       "    </tr>\n",
       "    <tr>\n",
       "      <th>4</th>\n",
       "      <td>E</td>\n",
       "      <td>10859966</td>\n",
       "    </tr>\n",
       "    <tr>\n",
       "      <th>5</th>\n",
       "      <td>S</td>\n",
       "      <td>10597822</td>\n",
       "    </tr>\n",
       "    <tr>\n",
       "      <th>6</th>\n",
       "      <td>I</td>\n",
       "      <td>10234455</td>\n",
       "    </tr>\n",
       "    <tr>\n",
       "      <th>7</th>\n",
       "      <td>R</td>\n",
       "      <td>9406165</td>\n",
       "    </tr>\n",
       "    <tr>\n",
       "      <th>8</th>\n",
       "      <td>D</td>\n",
       "      <td>9371097</td>\n",
       "    </tr>\n",
       "    <tr>\n",
       "      <th>9</th>\n",
       "      <td>K</td>\n",
       "      <td>9127832</td>\n",
       "    </tr>\n",
       "    <tr>\n",
       "      <th>10</th>\n",
       "      <td>T</td>\n",
       "      <td>9034110</td>\n",
       "    </tr>\n",
       "    <tr>\n",
       "      <th>11</th>\n",
       "      <td>P</td>\n",
       "      <td>7441084</td>\n",
       "    </tr>\n",
       "    <tr>\n",
       "      <th>12</th>\n",
       "      <td>F</td>\n",
       "      <td>7130287</td>\n",
       "    </tr>\n",
       "    <tr>\n",
       "      <th>13</th>\n",
       "      <td>N</td>\n",
       "      <td>6616976</td>\n",
       "    </tr>\n",
       "    <tr>\n",
       "      <th>14</th>\n",
       "      <td>Q</td>\n",
       "      <td>6250389</td>\n",
       "    </tr>\n",
       "    <tr>\n",
       "      <th>15</th>\n",
       "      <td>Y</td>\n",
       "      <td>5556597</td>\n",
       "    </tr>\n",
       "    <tr>\n",
       "      <th>16</th>\n",
       "      <td>M</td>\n",
       "      <td>3708948</td>\n",
       "    </tr>\n",
       "    <tr>\n",
       "      <th>17</th>\n",
       "      <td>H</td>\n",
       "      <td>3704587</td>\n",
       "    </tr>\n",
       "    <tr>\n",
       "      <th>18</th>\n",
       "      <td>C</td>\n",
       "      <td>2316115</td>\n",
       "    </tr>\n",
       "    <tr>\n",
       "      <th>19</th>\n",
       "      <td>W</td>\n",
       "      <td>2293257</td>\n",
       "    </tr>\n",
       "    <tr>\n",
       "      <th>20</th>\n",
       "      <td>X</td>\n",
       "      <td>1505</td>\n",
       "    </tr>\n",
       "    <tr>\n",
       "      <th>21</th>\n",
       "      <td>U</td>\n",
       "      <td>119</td>\n",
       "    </tr>\n",
       "    <tr>\n",
       "      <th>22</th>\n",
       "      <td>B</td>\n",
       "      <td>33</td>\n",
       "    </tr>\n",
       "    <tr>\n",
       "      <th>23</th>\n",
       "      <td>O</td>\n",
       "      <td>18</td>\n",
       "    </tr>\n",
       "    <tr>\n",
       "      <th>24</th>\n",
       "      <td>Z</td>\n",
       "      <td>8</td>\n",
       "    </tr>\n",
       "  </tbody>\n",
       "</table>\n",
       "</div>"
      ],
      "text/plain": [
       "   Code      Freq\n",
       "0     L  17062816\n",
       "1     A  14384873\n",
       "2     V  11913147\n",
       "3     G  11845579\n",
       "4     E  10859966\n",
       "5     S  10597822\n",
       "6     I  10234455\n",
       "7     R   9406165\n",
       "8     D   9371097\n",
       "9     K   9127832\n",
       "10    T   9034110\n",
       "11    P   7441084\n",
       "12    F   7130287\n",
       "13    N   6616976\n",
       "14    Q   6250389\n",
       "15    Y   5556597\n",
       "16    M   3708948\n",
       "17    H   3704587\n",
       "18    C   2316115\n",
       "19    W   2293257\n",
       "20    X      1505\n",
       "21    U       119\n",
       "22    B        33\n",
       "23    O        18\n",
       "24    Z         8"
      ]
     },
     "execution_count": 58,
     "metadata": {},
     "output_type": "execute_result"
    }
   ],
   "source": [
    "# train code sequence\n",
    "train_code_freq = get_code_freq(df_train['sequence'], 'Train')\n",
    "train_code_freq"
   ]
  },
  {
   "cell_type": "code",
   "execution_count": 59,
   "metadata": {
    "colab": {
     "base_uri": "https://localhost:8080/",
     "height": 732
    },
    "colab_type": "code",
    "id": "26OQZxJbDABI",
    "outputId": "cf8fbd67-a4c1-44f4-ada0-12b5529c9f20"
   },
   "outputs": [
    {
     "name": "stdout",
     "output_type": "stream",
     "text": [
      "Codes: Val\n",
      "Total unique codes: 22\n"
     ]
    },
    {
     "data": {
      "text/html": [
       "<div>\n",
       "<style scoped>\n",
       "    .dataframe tbody tr th:only-of-type {\n",
       "        vertical-align: middle;\n",
       "    }\n",
       "\n",
       "    .dataframe tbody tr th {\n",
       "        vertical-align: top;\n",
       "    }\n",
       "\n",
       "    .dataframe thead th {\n",
       "        text-align: right;\n",
       "    }\n",
       "</style>\n",
       "<table border=\"1\" class=\"dataframe\">\n",
       "  <thead>\n",
       "    <tr style=\"text-align: right;\">\n",
       "      <th></th>\n",
       "      <th>Code</th>\n",
       "      <th>Freq</th>\n",
       "    </tr>\n",
       "  </thead>\n",
       "  <tbody>\n",
       "    <tr>\n",
       "      <th>0</th>\n",
       "      <td>L</td>\n",
       "      <td>1967025</td>\n",
       "    </tr>\n",
       "    <tr>\n",
       "      <th>1</th>\n",
       "      <td>A</td>\n",
       "      <td>1667703</td>\n",
       "    </tr>\n",
       "    <tr>\n",
       "      <th>2</th>\n",
       "      <td>V</td>\n",
       "      <td>1382128</td>\n",
       "    </tr>\n",
       "    <tr>\n",
       "      <th>3</th>\n",
       "      <td>G</td>\n",
       "      <td>1376124</td>\n",
       "    </tr>\n",
       "    <tr>\n",
       "      <th>4</th>\n",
       "      <td>E</td>\n",
       "      <td>1249356</td>\n",
       "    </tr>\n",
       "    <tr>\n",
       "      <th>5</th>\n",
       "      <td>S</td>\n",
       "      <td>1210750</td>\n",
       "    </tr>\n",
       "    <tr>\n",
       "      <th>6</th>\n",
       "      <td>I</td>\n",
       "      <td>1185722</td>\n",
       "    </tr>\n",
       "    <tr>\n",
       "      <th>7</th>\n",
       "      <td>R</td>\n",
       "      <td>1085950</td>\n",
       "    </tr>\n",
       "    <tr>\n",
       "      <th>8</th>\n",
       "      <td>D</td>\n",
       "      <td>1080572</td>\n",
       "    </tr>\n",
       "    <tr>\n",
       "      <th>9</th>\n",
       "      <td>K</td>\n",
       "      <td>1047638</td>\n",
       "    </tr>\n",
       "    <tr>\n",
       "      <th>10</th>\n",
       "      <td>T</td>\n",
       "      <td>1039590</td>\n",
       "    </tr>\n",
       "    <tr>\n",
       "      <th>11</th>\n",
       "      <td>P</td>\n",
       "      <td>850937</td>\n",
       "    </tr>\n",
       "    <tr>\n",
       "      <th>12</th>\n",
       "      <td>F</td>\n",
       "      <td>820778</td>\n",
       "    </tr>\n",
       "    <tr>\n",
       "      <th>13</th>\n",
       "      <td>N</td>\n",
       "      <td>757315</td>\n",
       "    </tr>\n",
       "    <tr>\n",
       "      <th>14</th>\n",
       "      <td>Q</td>\n",
       "      <td>714424</td>\n",
       "    </tr>\n",
       "    <tr>\n",
       "      <th>15</th>\n",
       "      <td>Y</td>\n",
       "      <td>639252</td>\n",
       "    </tr>\n",
       "    <tr>\n",
       "      <th>16</th>\n",
       "      <td>M</td>\n",
       "      <td>428275</td>\n",
       "    </tr>\n",
       "    <tr>\n",
       "      <th>17</th>\n",
       "      <td>H</td>\n",
       "      <td>426922</td>\n",
       "    </tr>\n",
       "    <tr>\n",
       "      <th>18</th>\n",
       "      <td>C</td>\n",
       "      <td>264434</td>\n",
       "    </tr>\n",
       "    <tr>\n",
       "      <th>19</th>\n",
       "      <td>W</td>\n",
       "      <td>263317</td>\n",
       "    </tr>\n",
       "    <tr>\n",
       "      <th>20</th>\n",
       "      <td>X</td>\n",
       "      <td>146</td>\n",
       "    </tr>\n",
       "    <tr>\n",
       "      <th>21</th>\n",
       "      <td>U</td>\n",
       "      <td>12</td>\n",
       "    </tr>\n",
       "  </tbody>\n",
       "</table>\n",
       "</div>"
      ],
      "text/plain": [
       "   Code     Freq\n",
       "0     L  1967025\n",
       "1     A  1667703\n",
       "2     V  1382128\n",
       "3     G  1376124\n",
       "4     E  1249356\n",
       "5     S  1210750\n",
       "6     I  1185722\n",
       "7     R  1085950\n",
       "8     D  1080572\n",
       "9     K  1047638\n",
       "10    T  1039590\n",
       "11    P   850937\n",
       "12    F   820778\n",
       "13    N   757315\n",
       "14    Q   714424\n",
       "15    Y   639252\n",
       "16    M   428275\n",
       "17    H   426922\n",
       "18    C   264434\n",
       "19    W   263317\n",
       "20    X      146\n",
       "21    U       12"
      ]
     },
     "execution_count": 59,
     "metadata": {},
     "output_type": "execute_result"
    }
   ],
   "source": [
    "# val code sequence\n",
    "val_code_freq = get_code_freq(df_val['sequence'], 'Val')\n",
    "val_code_freq"
   ]
  },
  {
   "cell_type": "code",
   "execution_count": 60,
   "metadata": {
    "colab": {
     "base_uri": "https://localhost:8080/",
     "height": 791
    },
    "colab_type": "code",
    "id": "CEcQG5Y2CVvA",
    "outputId": "8e7f8cd4-adc1-415c-9ed4-e0a0dfd50cd0"
   },
   "outputs": [
    {
     "name": "stdout",
     "output_type": "stream",
     "text": [
      "Codes: Test\n",
      "Total unique codes: 24\n"
     ]
    },
    {
     "data": {
      "text/html": [
       "<div>\n",
       "<style scoped>\n",
       "    .dataframe tbody tr th:only-of-type {\n",
       "        vertical-align: middle;\n",
       "    }\n",
       "\n",
       "    .dataframe tbody tr th {\n",
       "        vertical-align: top;\n",
       "    }\n",
       "\n",
       "    .dataframe thead th {\n",
       "        text-align: right;\n",
       "    }\n",
       "</style>\n",
       "<table border=\"1\" class=\"dataframe\">\n",
       "  <thead>\n",
       "    <tr style=\"text-align: right;\">\n",
       "      <th></th>\n",
       "      <th>Code</th>\n",
       "      <th>Freq</th>\n",
       "    </tr>\n",
       "  </thead>\n",
       "  <tbody>\n",
       "    <tr>\n",
       "      <th>0</th>\n",
       "      <td>L</td>\n",
       "      <td>1967046</td>\n",
       "    </tr>\n",
       "    <tr>\n",
       "      <th>1</th>\n",
       "      <td>A</td>\n",
       "      <td>1668137</td>\n",
       "    </tr>\n",
       "    <tr>\n",
       "      <th>2</th>\n",
       "      <td>V</td>\n",
       "      <td>1380962</td>\n",
       "    </tr>\n",
       "    <tr>\n",
       "      <th>3</th>\n",
       "      <td>G</td>\n",
       "      <td>1375349</td>\n",
       "    </tr>\n",
       "    <tr>\n",
       "      <th>4</th>\n",
       "      <td>E</td>\n",
       "      <td>1251000</td>\n",
       "    </tr>\n",
       "    <tr>\n",
       "      <th>5</th>\n",
       "      <td>S</td>\n",
       "      <td>1210559</td>\n",
       "    </tr>\n",
       "    <tr>\n",
       "      <th>6</th>\n",
       "      <td>I</td>\n",
       "      <td>1184239</td>\n",
       "    </tr>\n",
       "    <tr>\n",
       "      <th>7</th>\n",
       "      <td>R</td>\n",
       "      <td>1085786</td>\n",
       "    </tr>\n",
       "    <tr>\n",
       "      <th>8</th>\n",
       "      <td>D</td>\n",
       "      <td>1078379</td>\n",
       "    </tr>\n",
       "    <tr>\n",
       "      <th>9</th>\n",
       "      <td>K</td>\n",
       "      <td>1045957</td>\n",
       "    </tr>\n",
       "    <tr>\n",
       "      <th>10</th>\n",
       "      <td>T</td>\n",
       "      <td>1038682</td>\n",
       "    </tr>\n",
       "    <tr>\n",
       "      <th>11</th>\n",
       "      <td>P</td>\n",
       "      <td>851574</td>\n",
       "    </tr>\n",
       "    <tr>\n",
       "      <th>12</th>\n",
       "      <td>F</td>\n",
       "      <td>822738</td>\n",
       "    </tr>\n",
       "    <tr>\n",
       "      <th>13</th>\n",
       "      <td>N</td>\n",
       "      <td>756549</td>\n",
       "    </tr>\n",
       "    <tr>\n",
       "      <th>14</th>\n",
       "      <td>Q</td>\n",
       "      <td>712317</td>\n",
       "    </tr>\n",
       "    <tr>\n",
       "      <th>15</th>\n",
       "      <td>Y</td>\n",
       "      <td>639218</td>\n",
       "    </tr>\n",
       "    <tr>\n",
       "      <th>16</th>\n",
       "      <td>M</td>\n",
       "      <td>428892</td>\n",
       "    </tr>\n",
       "    <tr>\n",
       "      <th>17</th>\n",
       "      <td>H</td>\n",
       "      <td>425862</td>\n",
       "    </tr>\n",
       "    <tr>\n",
       "      <th>18</th>\n",
       "      <td>C</td>\n",
       "      <td>264168</td>\n",
       "    </tr>\n",
       "    <tr>\n",
       "      <th>19</th>\n",
       "      <td>W</td>\n",
       "      <td>263755</td>\n",
       "    </tr>\n",
       "    <tr>\n",
       "      <th>20</th>\n",
       "      <td>X</td>\n",
       "      <td>198</td>\n",
       "    </tr>\n",
       "    <tr>\n",
       "      <th>21</th>\n",
       "      <td>U</td>\n",
       "      <td>12</td>\n",
       "    </tr>\n",
       "    <tr>\n",
       "      <th>22</th>\n",
       "      <td>Z</td>\n",
       "      <td>4</td>\n",
       "    </tr>\n",
       "    <tr>\n",
       "      <th>23</th>\n",
       "      <td>B</td>\n",
       "      <td>2</td>\n",
       "    </tr>\n",
       "  </tbody>\n",
       "</table>\n",
       "</div>"
      ],
      "text/plain": [
       "   Code     Freq\n",
       "0     L  1967046\n",
       "1     A  1668137\n",
       "2     V  1380962\n",
       "3     G  1375349\n",
       "4     E  1251000\n",
       "5     S  1210559\n",
       "6     I  1184239\n",
       "7     R  1085786\n",
       "8     D  1078379\n",
       "9     K  1045957\n",
       "10    T  1038682\n",
       "11    P   851574\n",
       "12    F   822738\n",
       "13    N   756549\n",
       "14    Q   712317\n",
       "15    Y   639218\n",
       "16    M   428892\n",
       "17    H   425862\n",
       "18    C   264168\n",
       "19    W   263755\n",
       "20    X      198\n",
       "21    U       12\n",
       "22    Z        4\n",
       "23    B        2"
      ]
     },
     "execution_count": 60,
     "metadata": {},
     "output_type": "execute_result"
    }
   ],
   "source": [
    "# test code sequence\n",
    "test_code_freq = get_code_freq(df_test['sequence'], 'Test')\n",
    "test_code_freq"
   ]
  },
  {
   "cell_type": "code",
   "execution_count": 61,
   "metadata": {
    "colab": {},
    "colab_type": "code",
    "id": "Vsp8Bd37DQi4"
   },
   "outputs": [],
   "source": [
    "def plot_code_freq(df, data_name):\n",
    "  \n",
    "    plt.title(f'Code frequency: {data_name}')\n",
    "    sns.barplot(x='Code', y='Freq', data=df)"
   ]
  },
  {
   "cell_type": "code",
   "execution_count": 62,
   "metadata": {
    "colab": {
     "base_uri": "https://localhost:8080/",
     "height": 299
    },
    "colab_type": "code",
    "id": "hqpczOVOF8sA",
    "outputId": "f1917b77-bdc4-405f-bd62-4d1ffebc1069"
   },
   "outputs": [
    {
     "data": {
      "image/png": "[encoded data removed]",
      "text/plain": [
       "<Figure size 432x288 with 3 Axes>"
      ]
     },
     "metadata": {
      "needs_background": "light"
     },
     "output_type": "display_data"
    }
   ],
   "source": [
    "plt.subplot(1, 3, 1)\n",
    "plot_code_freq(train_code_freq, 'Train')\n",
    "\n",
    "plt.subplot(1, 3, 2)\n",
    "plot_code_freq(val_code_freq, 'Val')\n",
    "\n",
    "plt.subplot(1, 3, 3)\n",
    "plot_code_freq(test_code_freq, 'Test')\n",
    "\n",
    "plt.subplots_adjust(right=3.0)\n",
    "plt.show()"
   ]
  },
  {
   "cell_type": "markdown",
   "metadata": {
    "colab_type": "text",
    "id": "J_SB86pZzCIq"
   },
   "source": [
    "__Observations__\n",
    "- Most frequent amino acid code is L followed by A, V, G.\n",
    "- As we can see, that the uncommon amino acids (i.e., X, U, B, O, Z) are present in very less quantity. Therefore we can consider only 20 common natural amino acids for sequence encoding."
   ]
  },
  {
   "cell_type": "markdown",
   "metadata": {
    "colab_type": "text",
    "id": "08mVHtLVfCmp"
   },
   "source": [
    "### Protein families with most sequences(No. of observations)"
   ]
  },
  {
   "cell_type": "code",
   "execution_count": 63,
   "metadata": {
    "colab": {
     "base_uri": "https://localhost:8080/",
     "height": 386
    },
    "colab_type": "code",
    "id": "VOx7dLl4uVwd",
    "outputId": "f81e1563-a81e-4899-8256-074d6d8d5ffc"
   },
   "outputs": [
    {
     "data": {
      "text/plain": [
       "family_id\n",
       "Methyltransf_25    3637\n",
       "LRR_1              1927\n",
       "Acetyltransf_7     1761\n",
       "His_kinase         1537\n",
       "Bac_transf         1528\n",
       "Lum_binding        1504\n",
       "DNA_binding_1      1345\n",
       "Chromate_transp    1265\n",
       "Lipase_GDSL_2      1252\n",
       "DnaJ_CXXCXGXG      1210\n",
       "SRP54_N            1185\n",
       "WD40               1173\n",
       "OTCace_N           1171\n",
       "PEP-utilizers      1147\n",
       "Glycos_trans_3N    1138\n",
       "THF_DHG_CYH        1113\n",
       "Prenyltransf       1104\n",
       "HTH_1              1064\n",
       "Maf                1061\n",
       "DHH                1057\n",
       "dtype: int64"
      ]
     },
     "execution_count": 63,
     "metadata": {},
     "output_type": "execute_result"
    }
   ],
   "source": [
    "df_train.groupby('family_id').size().sort_values(ascending=False).head(20)"
   ]
  },
  {
   "cell_type": "code",
   "execution_count": 64,
   "metadata": {
    "colab": {
     "base_uri": "https://localhost:8080/",
     "height": 386
    },
    "colab_type": "code",
    "id": "PFc1swdQ7fA3",
    "outputId": "5a2628fd-adff-4951-a8e2-2aa1d1317dfc"
   },
   "outputs": [
    {
     "data": {
      "text/plain": [
       "family_id\n",
       "Methyltransf_25    454\n",
       "LRR_1              240\n",
       "Acetyltransf_7     219\n",
       "His_kinase         192\n",
       "Bac_transf         190\n",
       "Lum_binding        187\n",
       "DNA_binding_1      168\n",
       "Chromate_transp    157\n",
       "Lipase_GDSL_2      156\n",
       "DnaJ_CXXCXGXG      151\n",
       "SRP54_N            148\n",
       "OTCace_N           146\n",
       "WD40               146\n",
       "PEP-utilizers      143\n",
       "Glycos_trans_3N    142\n",
       "Prenyltransf       138\n",
       "THF_DHG_CYH        138\n",
       "HTH_1              133\n",
       "Maf                132\n",
       "DHH                131\n",
       "dtype: int64"
      ]
     },
     "execution_count": 64,
     "metadata": {},
     "output_type": "execute_result"
    }
   ],
   "source": [
    "df_val.groupby('family_id').size().sort_values(ascending=False).head(20)"
   ]
  },
  {
   "cell_type": "code",
   "execution_count": 65,
   "metadata": {
    "colab": {
     "base_uri": "https://localhost:8080/",
     "height": 386
    },
    "colab_type": "code",
    "id": "XYKZ-oedp5JQ",
    "outputId": "8948b589-b5f0-4cb4-ab1e-320cfd73591b"
   },
   "outputs": [
    {
     "data": {
      "text/plain": [
       "family_id\n",
       "Methyltransf_25    454\n",
       "LRR_1              240\n",
       "Acetyltransf_7     219\n",
       "His_kinase         192\n",
       "Bac_transf         190\n",
       "Lum_binding        187\n",
       "DNA_binding_1      168\n",
       "Chromate_transp    157\n",
       "Lipase_GDSL_2      156\n",
       "DnaJ_CXXCXGXG      151\n",
       "SRP54_N            148\n",
       "OTCace_N           146\n",
       "WD40               146\n",
       "PEP-utilizers      143\n",
       "Glycos_trans_3N    142\n",
       "Prenyltransf       138\n",
       "THF_DHG_CYH        138\n",
       "HTH_1              133\n",
       "Maf                132\n",
       "DHH                131\n",
       "dtype: int64"
      ]
     },
     "execution_count": 65,
     "metadata": {},
     "output_type": "execute_result"
    }
   ],
   "source": [
    "df_test.groupby('family_id').size().sort_values(ascending=False).head(20)"
   ]
  },
  {
   "cell_type": "markdown",
   "metadata": {},
   "source": [
    "__Observation__\n",
    "\n",
    "- Top 20 classes are same across all the sets [train, test, val].\n",
    "- Test and Val sets have almost same frequency for the top 20 classes."
   ]
  },
  {
   "cell_type": "markdown",
   "metadata": {
    "colab_type": "text",
    "id": "TGQw5qydpFw5"
   },
   "source": [
    "### Considering 1000 classes based on no. of observations."
   ]
  },
  {
   "cell_type": "code",
   "execution_count": 66,
   "metadata": {
    "colab": {
     "base_uri": "https://localhost:8080/",
     "height": 34
    },
    "colab_type": "code",
    "id": "bOGBUMFw-CdY",
    "outputId": "07b4ac68-da22-447c-f504-ec3d28c79552"
   },
   "outputs": [
    {
     "data": {
      "text/plain": [
       "1000"
      ]
     },
     "execution_count": 66,
     "metadata": {},
     "output_type": "execute_result"
    }
   ],
   "source": [
    "# Considering top 1000 classes based on most observations because of limited computational power.\n",
    "\n",
    "classes = df_train['family_accession'].value_counts()[:1000].index.tolist()\n",
    "len(classes)"
   ]
  },
  {
   "cell_type": "code",
   "execution_count": 67,
   "metadata": {
    "colab": {
     "base_uri": "https://localhost:8080/",
     "height": 84
    },
    "colab_type": "code",
    "id": "Ctv5whnYk8FL",
    "outputId": "fc992b26-c07c-453c-cb1a-d1da2f9e54c8"
   },
   "outputs": [
    {
     "name": "stdout",
     "output_type": "stream",
     "text": [
      "Data size after considering 1000 classes for each data split:\n",
      "Train size : 439493\n",
      "Val size : 54378\n",
      "Test size : 54378\n"
     ]
    }
   ],
   "source": [
    "# Filtering data based on considered 1000 classes.\n",
    "train_sm = df_train.loc[df_train['family_accession'].isin(classes)].reset_index()\n",
    "val_sm = df_val.loc[df_val['family_accession'].isin(classes)].reset_index()\n",
    "test_sm = df_test.loc[df_test['family_accession'].isin(classes)].reset_index()\n",
    "\n",
    "print('Data size after considering 1000 classes for each data split:')\n",
    "print('Train size :', len(train_sm))\n",
    "print('Val size :', len(val_sm))\n",
    "print('Test size :', len(test_sm))"
   ]
  },
  {
   "cell_type": "code",
   "execution_count": 68,
   "metadata": {
    "colab": {
     "base_uri": "https://localhost:8080/",
     "height": 67
    },
    "colab_type": "code",
    "id": "0sRhsRRqUGGV",
    "outputId": "bee31926-b35b-4d12-eb75-e35109705744"
   },
   "outputs": [
    {
     "name": "stdout",
     "output_type": "stream",
     "text": [
      "Number of unique classes in Train:  1000\n",
      "Number of unique classes in Val:  1000\n",
      "Number of unique classes in Test:  1000\n"
     ]
    }
   ],
   "source": [
    "# No. of unique classes after reducing the data size.\n",
    "\n",
    "calc_unique_cls(train_sm, test_sm, val_sm)"
   ]
  },
  {
   "cell_type": "markdown",
   "metadata": {
    "colab_type": "text",
    "id": "_aPR87m9hYV2"
   },
   "source": [
    "## 4. Deep Learning Models"
   ]
  },
  {
   "cell_type": "markdown",
   "metadata": {
    "colab_type": "text",
    "id": "LHh3AXwNp7Yv"
   },
   "source": [
    "### Text Preprocessing"
   ]
  },
  {
   "cell_type": "code",
   "execution_count": 69,
   "metadata": {
    "colab": {
     "base_uri": "https://localhost:8080/",
     "height": 50
    },
    "colab_type": "code",
    "id": "D16pJrHvqDdU",
    "outputId": "0ff0f88d-18b2-4fff-c65f-1108c58707aa"
   },
   "outputs": [
    {
     "name": "stdout",
     "output_type": "stream",
     "text": [
      "{'A': 1, 'C': 2, 'D': 3, 'E': 4, 'F': 5, 'G': 6, 'H': 7, 'I': 8, 'K': 9, 'L': 10, 'M': 11, 'N': 12, 'P': 13, 'Q': 14, 'R': 15, 'S': 16, 'T': 17, 'V': 18, 'W': 19, 'Y': 20}\n",
      "Dict Length: 20\n"
     ]
    }
   ],
   "source": [
    "# https://dmnfarrell.github.io/bioinformatics/mhclearning\n",
    "# http://www.cryst.bbk.ac.uk/education/AminoAcid/the_twenty.html\n",
    "# 1 letter code for 20 natural amino acids\n",
    "\n",
    "codes = ['A', 'C', 'D', 'E', 'F', 'G', 'H', 'I', 'K', 'L',\n",
    "         'M', 'N', 'P', 'Q', 'R', 'S', 'T', 'V', 'W', 'Y']\n",
    "\n",
    "def create_dict(codes):\n",
    "    char_dict = {}\n",
    "    for index, val in enumerate(codes):\n",
    "        char_dict[val] = index+1\n",
    "\n",
    "    return char_dict\n",
    "\n",
    "char_dict = create_dict(codes)\n",
    "\n",
    "print(char_dict)\n",
    "print(\"Dict Length:\", len(char_dict))"
   ]
  },
  {
   "cell_type": "code",
   "execution_count": 70,
   "metadata": {
    "colab": {},
    "colab_type": "code",
    "id": "dN92LSEG62zX"
   },
   "outputs": [],
   "source": [
    "def integer_encoding(data):\n",
    "    \"\"\"\n",
    "  - Encodes code sequence to integer values.\n",
    "  - 20 common amino acids are taken into consideration\n",
    "    and rest 4 are categorized as 0.\n",
    "    \"\"\"\n",
    "  \n",
    "    encode_list = []\n",
    "    for row in data['sequence'].values:\n",
    "        row_encode = []\n",
    "        for code in row:\n",
    "            row_encode.append(char_dict.get(code, 0))\n",
    "        encode_list.append(np.array(row_encode))\n",
    "  \n",
    "    return encode_list"
   ]
  },
  {
   "cell_type": "code",
   "execution_count": 71,
   "metadata": {
    "colab": {},
    "colab_type": "code",
    "id": "2SW62zkr7Xzf"
   },
   "outputs": [],
   "source": [
    "train_encode = integer_encoding(train_sm) \n",
    "val_encode = integer_encoding(val_sm) \n",
    "test_encode = integer_encoding(test_sm) "
   ]
  },
  {
   "cell_type": "code",
   "execution_count": 72,
   "metadata": {
    "colab": {
     "base_uri": "https://localhost:8080/",
     "height": 34
    },
    "colab_type": "code",
    "id": "0_vX2hJJ7noX",
    "outputId": "6175a913-7b43-4283-9353-477f809f23d7"
   },
   "outputs": [
    {
     "data": {
      "text/plain": [
       "((439493, 100), (54378, 100), (54378, 100))"
      ]
     },
     "execution_count": 72,
     "metadata": {},
     "output_type": "execute_result"
    }
   ],
   "source": [
    "# padding sequences\n",
    "\n",
    "max_length = 100\n",
    "train_pad = pad_sequences(train_encode, maxlen=max_length, padding='post', truncating='post')\n",
    "val_pad = pad_sequences(val_encode, maxlen=max_length, padding='post', truncating='post')\n",
    "test_pad = pad_sequences(test_encode, maxlen=max_length, padding='post', truncating='post')\n",
    "\n",
    "train_pad.shape, val_pad.shape, test_pad.shape"
   ]
  },
  {
   "cell_type": "code",
   "execution_count": 73,
   "metadata": {
    "colab": {
     "base_uri": "https://localhost:8080/",
     "height": 34
    },
    "colab_type": "code",
    "id": "3MNzmuhn9zTJ",
    "outputId": "55c143ec-aed3-4bb4-d88b-7720a7651ae5"
   },
   "outputs": [
    {
     "data": {
      "text/plain": [
       "((439493, 100, 21), (54378, 100, 21), (54378, 100, 21))"
      ]
     },
     "execution_count": 73,
     "metadata": {},
     "output_type": "execute_result"
    }
   ],
   "source": [
    "# One hot encoding of sequences\n",
    "\n",
    "train_ohe = to_categorical(train_pad)\n",
    "val_ohe = to_categorical(val_pad)\n",
    "test_ohe = to_categorical(test_pad)\n",
    "\n",
    "train_ohe.shape, test_ohe.shape, test_ohe.shape "
   ]
  },
  {
   "cell_type": "code",
   "execution_count": 74,
   "metadata": {
    "colab": {},
    "colab_type": "code",
    "id": "REZ9V0mt_v8Y"
   },
   "outputs": [],
   "source": [
    "# del train_pad, val_pad, test_pad\n",
    "# del train_encode, val_encode, test_encode\n",
    "\n",
    "# gc.collect()"
   ]
  },
  {
   "cell_type": "code",
   "execution_count": 75,
   "metadata": {
    "colab": {
     "base_uri": "https://localhost:8080/",
     "height": 34
    },
    "colab_type": "code",
    "id": "cOdjjL1mLMko",
    "outputId": "207f7985-fe44-49b4-d9a6-161d4eaf582b"
   },
   "outputs": [
    {
     "data": {
      "text/plain": [
       "((439493,), (54378,), (54378,))"
      ]
     },
     "execution_count": 75,
     "metadata": {},
     "output_type": "execute_result"
    }
   ],
   "source": [
    "# label/integer encoding output variable: (y)\n",
    "le = LabelEncoder()\n",
    "\n",
    "y_train_le = le.fit_transform(train_sm['family_accession'])\n",
    "y_val_le = le.transform(val_sm['family_accession'])\n",
    "y_test_le = le.transform(test_sm['family_accession'])\n",
    "\n",
    "y_train_le.shape, y_val_le.shape, y_test_le.shape"
   ]
  },
  {
   "cell_type": "code",
   "execution_count": 76,
   "metadata": {
    "colab": {
     "base_uri": "https://localhost:8080/",
     "height": 34
    },
    "colab_type": "code",
    "id": "1r-g3zHcNe5o",
    "outputId": "03227960-c615-4a41-d315-c522151c350a"
   },
   "outputs": [
    {
     "name": "stdout",
     "output_type": "stream",
     "text": [
      "Total classes:  1000\n"
     ]
    }
   ],
   "source": [
    "print('Total classes: ', len(le.classes_))\n",
    "# le.classes_"
   ]
  },
  {
   "cell_type": "code",
   "execution_count": 77,
   "metadata": {
    "colab": {
     "base_uri": "https://localhost:8080/",
     "height": 34
    },
    "colab_type": "code",
    "id": "er4ArjShGnV3",
    "outputId": "79a9fc8c-b430-4971-e338-b8cef5868d42"
   },
   "outputs": [
    {
     "data": {
      "text/plain": [
       "((439493, 1000), (54378, 1000), (54378, 1000))"
      ]
     },
     "execution_count": 77,
     "metadata": {},
     "output_type": "execute_result"
    }
   ],
   "source": [
    "# One hot encoding of outputs\n",
    "y_train = to_categorical(y_train_le)\n",
    "y_val = to_categorical(y_val_le)\n",
    "y_test = to_categorical(y_test_le)\n",
    "\n",
    "y_train.shape, y_val.shape, y_test.shape"
   ]
  },
  {
   "cell_type": "code",
   "execution_count": 93,
   "metadata": {
    "colab": {},
    "colab_type": "code",
    "id": "ADeDl5u7whSp"
   },
   "outputs": [],
   "source": [
    "# Utility function: plot model's accuracy and loss\n",
    "\n",
    "# https://realpython.com/python-keras-text-classification/\n",
    "plt.style.use('ggplot')\n",
    "\n",
    "def plot_history(history):\n",
    "    acc = history.history['accuracy']\n",
    "    val_acc = history.history['val_accuracy']\n",
    "    loss = history.history['loss']\n",
    "    val_loss = history.history['val_loss']\n",
    "    x = range(1, len(acc) + 1)\n",
    "\n",
    "    plt.figure(figsize=(12, 5))\n",
    "    plt.subplot(1, 2, 1)\n",
    "    plt.plot(x, acc, 'b', label='Training acc')\n",
    "    plt.plot(x, val_acc, 'r', label='Validation acc')\n",
    "    plt.title('Training and validation accuracy')\n",
    "    plt.legend()\n",
    "\n",
    "    plt.subplot(1, 2, 2)\n",
    "    plt.plot(x, loss, 'b', label='Training loss')\n",
    "    plt.plot(x, val_loss, 'r', label='Validation loss')\n",
    "    plt.title('Training and validation loss')\n",
    "    plt.legend()"
   ]
  },
  {
   "cell_type": "code",
   "execution_count": 79,
   "metadata": {
    "colab": {},
    "colab_type": "code",
    "id": "GG5UJlgsK0z6"
   },
   "outputs": [],
   "source": [
    "# Utility function: Display model score(Loss & Accuracy) across all sets.\n",
    "\n",
    "def display_model_score(model, train, val, test, batch_size):\n",
    "\n",
    "    train_score = model.evaluate(train[0], train[1], batch_size=batch_size, verbose=1)\n",
    "    print('Train loss: ', train_score[0])\n",
    "    print('Train accuracy: ', train_score[1])\n",
    "    print('-'*70)\n",
    "\n",
    "    val_score = model.evaluate(val[0], val[1], batch_size=batch_size, verbose=1)\n",
    "    print('Val loss: ', val_score[0])\n",
    "    print('Val accuracy: ', val_score[1])\n",
    "    print('-'*70)\n",
    "\n",
    "    test_score = model.evaluate(test[0], test[1], batch_size=batch_size, verbose=1)\n",
    "    print('Test loss: ', test_score[0])\n",
    "    print('Test accuracy: ', test_score[1])"
   ]
  },
  {
   "cell_type": "markdown",
   "metadata": {
    "colab_type": "text",
    "id": "0GQ3x4L6hKOY"
   },
   "source": [
    "### Model 1: Bidirectional LSTM"
   ]
  },
  {
   "cell_type": "code",
   "execution_count": 87,
   "metadata": {
    "colab": {
     "base_uri": "https://localhost:8080/",
     "height": 319
    },
    "colab_type": "code",
    "id": "ERfM44Zk0dcz",
    "outputId": "e8fa2245-e20d-422f-ec08-9b5e7c54f558"
   },
   "outputs": [
    {
     "name": "stdout",
     "output_type": "stream",
     "text": [
      "Model: \"model_1\"\n",
      "_________________________________________________________________\n",
      "Layer (type)                 Output Shape              Param #   \n",
      "=================================================================\n",
      "input_5 (InputLayer)         [(None, 100)]             0         \n",
      "_________________________________________________________________\n",
      "embedding_4 (Embedding)      (None, 100, 128)          2688      \n",
      "_________________________________________________________________\n",
      "bidirectional_1 (Bidirection (None, 128)               98816     \n",
      "_________________________________________________________________\n",
      "dropout_1 (Dropout)          (None, 128)               0         \n",
      "_________________________________________________________________\n",
      "dense_1 (Dense)              (None, 1000)              129000    \n",
      "=================================================================\n",
      "Total params: 230,504\n",
      "Trainable params: 230,504\n",
      "Non-trainable params: 0\n",
      "_________________________________________________________________\n"
     ]
    }
   ],
   "source": [
    "\n",
    "x_input = Input(shape=(100,))\n",
    "emb = Embedding(21, 128, input_length=max_length)(x_input)\n",
    "bi_rnn = Bidirectional(LSTM(64, kernel_regularizer=l2(0.01), recurrent_regularizer=l2(0.01), bias_regularizer=l2(0.01)))(emb)\n",
    "x = Dropout(0.3)(bi_rnn)\n",
    "\n",
    "# softmax classifier\n",
    "x_output = Dense(1000, activation='softmax')(x)\n",
    "\n",
    "model1 = Model(inputs=x_input, outputs=x_output)\n",
    "model1.compile(optimizer='adam', loss='categorical_crossentropy', metrics=['accuracy'])\n",
    "\n",
    "model1.summary()"
   ]
  },
  {
   "cell_type": "code",
   "execution_count": 88,
   "metadata": {
    "colab": {},
    "colab_type": "code",
    "id": "DbpNEd2nmySw"
   },
   "outputs": [],
   "source": [
    "# Early Stopping\n",
    "es = EarlyStopping(monitor='val_loss', patience=3, verbose=1)"
   ]
  },
  {
   "cell_type": "code",
   "execution_count": 89,
   "metadata": {
    "colab": {
     "base_uri": "https://localhost:8080/",
     "height": 1000
    },
    "colab_type": "code",
    "id": "rojzazHe0hlN",
    "outputId": "17222b58-54be-47ac-90eb-a9cdd75bffe5",
    "scrolled": true
   },
   "outputs": [
    {
     "name": "stdout",
     "output_type": "stream",
     "text": [
      "Epoch 1/50\n",
      "1717/1717 [==============================] - 1290s 749ms/step - loss: 7.0651 - accuracy: 0.0355 - val_loss: 3.7590 - val_accuracy: 0.3081\n",
      "Epoch 2/50\n",
      "1717/1717 [==============================] - 1167s 680ms/step - loss: 3.3441 - accuracy: 0.3764 - val_loss: 2.0285 - val_accuracy: 0.6608\n",
      "Epoch 3/50\n",
      "1717/1717 [==============================] - 1168s 680ms/step - loss: 2.0447 - accuracy: 0.6362 - val_loss: 1.3857 - val_accuracy: 0.7875\n",
      "Epoch 4/50\n",
      "1717/1717 [==============================] - 1172s 683ms/step - loss: 1.5082 - accuracy: 0.7397 - val_loss: 1.0583 - val_accuracy: 0.8446\n",
      "Epoch 5/50\n",
      "1717/1717 [==============================] - 1172s 683ms/step - loss: 1.2253 - accuracy: 0.7919 - val_loss: 0.8790 - val_accuracy: 0.8756\n",
      "Epoch 6/50\n",
      "1717/1717 [==============================] - 1170s 681ms/step - loss: 1.0598 - accuracy: 0.8219 - val_loss: 0.7928 - val_accuracy: 0.8881\n",
      "Epoch 7/50\n",
      "1717/1717 [==============================] - 1206s 702ms/step - loss: 0.9497 - accuracy: 0.8415 - val_loss: 0.6708 - val_accuracy: 0.9129\n",
      "Epoch 8/50\n",
      "1717/1717 [==============================] - 1170s 681ms/step - loss: 0.8738 - accuracy: 0.8552 - val_loss: 0.6220 - val_accuracy: 0.9221\n",
      "Epoch 9/50\n",
      "1717/1717 [==============================] - 1173s 683ms/step - loss: 0.8249 - accuracy: 0.8638 - val_loss: 0.5926 - val_accuracy: 0.9249\n",
      "Epoch 10/50\n",
      "1717/1717 [==============================] - 1181s 688ms/step - loss: 0.7814 - accuracy: 0.8716 - val_loss: 0.5500 - val_accuracy: 0.9338\n",
      "Epoch 11/50\n",
      "1717/1717 [==============================] - 1209s 704ms/step - loss: 0.7511 - accuracy: 0.8775 - val_loss: 0.5514 - val_accuracy: 0.9290\n",
      "Epoch 12/50\n",
      "1717/1717 [==============================] - 1174s 684ms/step - loss: 0.7265 - accuracy: 0.8813 - val_loss: 0.5147 - val_accuracy: 0.9382\n",
      "Epoch 13/50\n",
      "1717/1717 [==============================] - 1174s 684ms/step - loss: 0.7023 - accuracy: 0.8855 - val_loss: 0.5029 - val_accuracy: 0.9405\n",
      "Epoch 14/50\n",
      "1717/1717 [==============================] - 1174s 684ms/step - loss: 0.6824 - accuracy: 0.8902 - val_loss: 0.4928 - val_accuracy: 0.9419\n",
      "Epoch 15/50\n",
      "1717/1717 [==============================] - 1171s 682ms/step - loss: 0.6715 - accuracy: 0.8923 - val_loss: 0.4839 - val_accuracy: 0.9427\n",
      "Epoch 16/50\n",
      "1717/1717 [==============================] - 1167s 679ms/step - loss: 0.6621 - accuracy: 0.8936 - val_loss: 0.4628 - val_accuracy: 0.9480\n",
      "Epoch 17/50\n",
      "1717/1717 [==============================] - 1169s 681ms/step - loss: 0.6463 - accuracy: 0.8970 - val_loss: 0.4534 - val_accuracy: 0.9483\n",
      "Epoch 18/50\n",
      "1717/1717 [==============================] - 1168s 680ms/step - loss: 0.6307 - accuracy: 0.8997 - val_loss: 0.4400 - val_accuracy: 0.9513\n",
      "Epoch 19/50\n",
      "1717/1717 [==============================] - 1167s 680ms/step - loss: 0.6253 - accuracy: 0.9008 - val_loss: 0.4351 - val_accuracy: 0.9522\n",
      "Epoch 20/50\n",
      "1717/1717 [==============================] - 1170s 681ms/step - loss: 0.6146 - accuracy: 0.9026 - val_loss: 0.4469 - val_accuracy: 0.9481\n",
      "Epoch 21/50\n",
      "1717/1717 [==============================] - 1175s 684ms/step - loss: 0.6046 - accuracy: 0.9037 - val_loss: 0.4180 - val_accuracy: 0.9554\n",
      "Epoch 22/50\n",
      "1717/1717 [==============================] - 1171s 682ms/step - loss: 0.6020 - accuracy: 0.9051 - val_loss: 0.4241 - val_accuracy: 0.9540\n",
      "Epoch 23/50\n",
      "1717/1717 [==============================] - 1171s 682ms/step - loss: 0.5923 - accuracy: 0.9070 - val_loss: 0.4091 - val_accuracy: 0.9569\n",
      "Epoch 24/50\n",
      "1717/1717 [==============================] - 1169s 681ms/step - loss: 0.5832 - accuracy: 0.9084 - val_loss: 0.4268 - val_accuracy: 0.9520\n",
      "Epoch 25/50\n",
      "1717/1717 [==============================] - 1169s 681ms/step - loss: 0.5782 - accuracy: 0.9103 - val_loss: 0.3862 - val_accuracy: 0.9620\n",
      "Epoch 26/50\n",
      "1717/1717 [==============================] - 1169s 681ms/step - loss: 0.5665 - accuracy: 0.9117 - val_loss: 0.4185 - val_accuracy: 0.9524\n",
      "Epoch 27/50\n",
      "1717/1717 [==============================] - 1165s 678ms/step - loss: 0.5657 - accuracy: 0.9120 - val_loss: 0.4098 - val_accuracy: 0.9549\n",
      "Epoch 28/50\n",
      "1717/1717 [==============================] - 1168s 680ms/step - loss: 0.5599 - accuracy: 0.9129 - val_loss: 0.3952 - val_accuracy: 0.9595\n",
      "Epoch 00028: early stopping\n"
     ]
    }
   ],
   "source": [
    "history1 = model1.fit(\n",
    "    train_pad, y_train,\n",
    "    epochs=50, batch_size=256,\n",
    "    validation_data=(val_pad, y_val),\n",
    "    callbacks=[es]\n",
    "    )"
   ]
  },
  {
   "cell_type": "code",
   "execution_count": 92,
   "metadata": {
    "colab": {},
    "colab_type": "code",
    "id": "AzBvM1RHqxgg"
   },
   "outputs": [],
   "source": [
    "# saving model weights.\n",
    "model1.save_weights('D:/googledownload/random_split/model/')"
   ]
  },
  {
   "cell_type": "code",
   "execution_count": 94,
   "metadata": {
    "colab": {
     "base_uri": "https://localhost:8080/",
     "height": 337
    },
    "colab_type": "code",
    "id": "FvmHIj9gG9VP",
    "outputId": "d66c6376-d696-4bb6-f11f-caff6e8783ab"
   },
   "outputs": [
    {
     "data": {
      "image/png": "[encoded data removed]",
      "text/plain": [
       "<Figure size 864x360 with 2 Axes>"
      ]
     },
     "metadata": {},
     "output_type": "display_data"
    }
   ],
   "source": [
    "plot_history(history1)"
   ]
  },
  {
   "cell_type": "code",
   "execution_count": 95,
   "metadata": {
    "colab": {
     "base_uri": "https://localhost:8080/",
     "height": 202
    },
    "colab_type": "code",
    "id": "VlW0i0DiLVI6",
    "outputId": "30afcf5f-1213-4f66-ff37-4faf92fdd404"
   },
   "outputs": [
    {
     "name": "stdout",
     "output_type": "stream",
     "text": [
      "1717/1717 [==============================] - 332s 193ms/step - loss: 0.3727 - accuracy: 0.9653\n",
      "Train loss:  0.37269940972328186\n",
      "Train accuracy:  0.9653031826019287\n",
      "----------------------------------------------------------------------\n",
      "213/213 [==============================] - 41s 190ms/step - loss: 0.3952 - accuracy: 0.9595\n",
      "Val loss:  0.3951531946659088\n",
      "Val accuracy:  0.9594689011573792\n",
      "----------------------------------------------------------------------\n",
      "213/213 [==============================] - 42s 196ms/step - loss: 0.3943 - accuracy: 0.9590 16s - loss: 0. - ETA: 11s - loss: 0.\n",
      "Test loss:  0.39431002736091614\n",
      "Test accuracy:  0.9590275287628174\n"
     ]
    }
   ],
   "source": [
    "display_model_score(model1,\n",
    "    [train_pad, y_train],\n",
    "    [val_pad, y_val],\n",
    "    [test_pad, y_test],\n",
    "    256)"
   ]
  },
  {
   "cell_type": "markdown",
   "metadata": {
    "colab_type": "text",
    "id": "8Lip5vCthFn_"
   },
   "source": [
    "### Model 2: ProtCNN (https://www.biorxiv.org/content/10.1101/626507v4.full)"
   ]
  },
  {
   "cell_type": "markdown",
   "metadata": {
    "colab_type": "text",
    "id": "wxdIXVy-fDyz"
   },
   "source": [
    "<br/>\n",
    "<center><img src='https://www.biorxiv.org/content/biorxiv/early/2019/07/15/626507/F6.large.jpg' height='470' width='700'></center>\n",
    "\n",
    "<br/>"
   ]
  },
  {
   "cell_type": "markdown",
   "metadata": {
    "colab_type": "text",
    "id": "BgX7fQhjkkcD"
   },
   "source": [
    "- One hot encoded unaligned sequence of amino acids is passed as the input to the network with zero padding.\n",
    "\n",
    "- This network uses residual blocks inspired from [ResNet](https://arxiv.org/abs/1512.03385) architecture which also includes dilated convolutions offering larger receptive field without increasing number of model parameters."
   ]
  },
  {
   "cell_type": "code",
   "execution_count": 97,
   "metadata": {
    "colab": {},
    "colab_type": "code",
    "id": "otNM0HBpZ_CL"
   },
   "outputs": [],
   "source": [
    "def residual_block(data, filters, d_rate):\n",
    "    \"\"\"\n",
    "  _data: input\n",
    "  _filters: convolution filters\n",
    "  _d_rate: dilation rate\n",
    "    \"\"\"\n",
    "\n",
    "    shortcut = data\n",
    "\n",
    "    bn1 = BatchNormalization()(data)\n",
    "    act1 = Activation('relu')(bn1)\n",
    "    conv1 = Conv1D(filters, 1, dilation_rate=d_rate, padding='same', kernel_regularizer=l2(0.001))(act1)\n",
    "\n",
    "  #bottleneck convolution\n",
    "    bn2 = BatchNormalization()(conv1)\n",
    "    act2 = Activation('relu')(bn2)\n",
    "    conv2 = Conv1D(filters, 3, padding='same', kernel_regularizer=l2(0.001))(act2)\n",
    "\n",
    "  #skip connection\n",
    "    x = Add()([conv2, shortcut])\n",
    "\n",
    "    return x"
   ]
  },
  {
   "cell_type": "code",
   "execution_count": 98,
   "metadata": {
    "colab": {
     "base_uri": "https://localhost:8080/",
     "height": 857
    },
    "colab_type": "code",
    "id": "56zf2x_xDCY4",
    "outputId": "a2e8a399-2362-4c01-b395-ebb58b5ffbbe"
   },
   "outputs": [
    {
     "name": "stdout",
     "output_type": "stream",
     "text": [
      "Model: \"model_2\"\n",
      "__________________________________________________________________________________________________\n",
      "Layer (type)                    Output Shape         Param #     Connected to                     \n",
      "==================================================================================================\n",
      "input_6 (InputLayer)            [(None, 100, 21)]    0                                            \n",
      "__________________________________________________________________________________________________\n",
      "conv1d (Conv1D)                 (None, 100, 128)     2816        input_6[0][0]                    \n",
      "__________________________________________________________________________________________________\n",
      "batch_normalization (BatchNorma (None, 100, 128)     512         conv1d[0][0]                     \n",
      "__________________________________________________________________________________________________\n",
      "activation (Activation)         (None, 100, 128)     0           batch_normalization[0][0]        \n",
      "__________________________________________________________________________________________________\n",
      "conv1d_1 (Conv1D)               (None, 100, 128)     16512       activation[0][0]                 \n",
      "__________________________________________________________________________________________________\n",
      "batch_normalization_1 (BatchNor (None, 100, 128)     512         conv1d_1[0][0]                   \n",
      "__________________________________________________________________________________________________\n",
      "activation_1 (Activation)       (None, 100, 128)     0           batch_normalization_1[0][0]      \n",
      "__________________________________________________________________________________________________\n",
      "conv1d_2 (Conv1D)               (None, 100, 128)     49280       activation_1[0][0]               \n",
      "__________________________________________________________________________________________________\n",
      "add (Add)                       (None, 100, 128)     0           conv1d_2[0][0]                   \n",
      "                                                                 conv1d[0][0]                     \n",
      "__________________________________________________________________________________________________\n",
      "batch_normalization_2 (BatchNor (None, 100, 128)     512         add[0][0]                        \n",
      "__________________________________________________________________________________________________\n",
      "activation_2 (Activation)       (None, 100, 128)     0           batch_normalization_2[0][0]      \n",
      "__________________________________________________________________________________________________\n",
      "conv1d_3 (Conv1D)               (None, 100, 128)     16512       activation_2[0][0]               \n",
      "__________________________________________________________________________________________________\n",
      "batch_normalization_3 (BatchNor (None, 100, 128)     512         conv1d_3[0][0]                   \n",
      "__________________________________________________________________________________________________\n",
      "activation_3 (Activation)       (None, 100, 128)     0           batch_normalization_3[0][0]      \n",
      "__________________________________________________________________________________________________\n",
      "conv1d_4 (Conv1D)               (None, 100, 128)     49280       activation_3[0][0]               \n",
      "__________________________________________________________________________________________________\n",
      "add_1 (Add)                     (None, 100, 128)     0           conv1d_4[0][0]                   \n",
      "                                                                 add[0][0]                        \n",
      "__________________________________________________________________________________________________\n",
      "max_pooling1d (MaxPooling1D)    (None, 33, 128)      0           add_1[0][0]                      \n",
      "__________________________________________________________________________________________________\n",
      "dropout_2 (Dropout)             (None, 33, 128)      0           max_pooling1d[0][0]              \n",
      "__________________________________________________________________________________________________\n",
      "flatten (Flatten)               (None, 4224)         0           dropout_2[0][0]                  \n",
      "__________________________________________________________________________________________________\n",
      "dense_2 (Dense)                 (None, 1000)         4225000     flatten[0][0]                    \n",
      "==================================================================================================\n",
      "Total params: 4,361,448\n",
      "Trainable params: 4,360,424\n",
      "Non-trainable params: 1,024\n",
      "__________________________________________________________________________________________________\n"
     ]
    }
   ],
   "source": [
    "# model\n",
    "\n",
    "x_input = Input(shape=(100, 21))\n",
    "\n",
    "#initial conv\n",
    "conv = Conv1D(128, 1, padding='same')(x_input) \n",
    "\n",
    "# per-residue representation\n",
    "res1 = residual_block(conv, 128, 2)\n",
    "res2 = residual_block(res1, 128, 3)\n",
    "\n",
    "x = MaxPooling1D(3)(res2)\n",
    "x = Dropout(0.5)(x)\n",
    "\n",
    "# softmax classifier\n",
    "x = Flatten()(x)\n",
    "x_output = Dense(1000, activation='softmax', kernel_regularizer=l2(0.0001))(x)\n",
    "\n",
    "model2 = Model(inputs=x_input, outputs=x_output)\n",
    "model2.compile(optimizer='adam', loss='categorical_crossentropy', metrics=['accuracy'])\n",
    "\n",
    "model2.summary()"
   ]
  },
  {
   "cell_type": "code",
   "execution_count": 99,
   "metadata": {
    "colab": {},
    "colab_type": "code",
    "id": "_gJi_tLlxvfC"
   },
   "outputs": [],
   "source": [
    "# Early Stopping\n",
    "es = EarlyStopping(monitor='val_loss', patience=3, verbose=1)"
   ]
  },
  {
   "cell_type": "code",
   "execution_count": 100,
   "metadata": {
    "colab": {
     "base_uri": "https://localhost:8080/",
     "height": 370
    },
    "colab_type": "code",
    "id": "GeRJYs0wxzBM",
    "outputId": "8dbf7565-ef7e-49bb-a063-94a92ac61917"
   },
   "outputs": [
    {
     "name": "stdout",
     "output_type": "stream",
     "text": [
      "Epoch 1/10\n",
      "1717/1717 [==============================] - 1192s 689ms/step - loss: 1.6804 - accuracy: 0.8260 - val_loss: 0.4629 - val_accuracy: 0.9839\n",
      "Epoch 2/10\n",
      "1717/1717 [==============================] - 1136s 662ms/step - loss: 0.4270 - accuracy: 0.9822 - val_loss: 0.4455 - val_accuracy: 0.9840\n",
      "Epoch 3/10\n",
      "1717/1717 [==============================] - 1120s 653ms/step - loss: 0.4159 - accuracy: 0.9838 - val_loss: 0.4392 - val_accuracy: 0.9856\n",
      "Epoch 4/10\n",
      "1717/1717 [==============================] - 971s 565ms/step - loss: 0.4081 - accuracy: 0.9849 - val_loss: 0.4353 - val_accuracy: 0.9850\n",
      "Epoch 5/10\n",
      "1717/1717 [==============================] - 692s 403ms/step - loss: 0.4000 - accuracy: 0.9858 - val_loss: 0.4242 - val_accuracy: 0.9853\n",
      "Epoch 6/10\n",
      "1717/1717 [==============================] - 699s 407ms/step - loss: 0.3962 - accuracy: 0.9854 - val_loss: 0.4233 - val_accuracy: 0.9866\n",
      "Epoch 7/10\n",
      "1717/1717 [==============================] - 689s 402ms/step - loss: 0.3865 - accuracy: 0.9866 - val_loss: 0.4104 - val_accuracy: 0.9878\n",
      "Epoch 8/10\n",
      "1717/1717 [==============================] - 687s 400ms/step - loss: 0.3784 - accuracy: 0.9869 - val_loss: 0.4044 - val_accuracy: 0.9881\n",
      "Epoch 9/10\n",
      "1717/1717 [==============================] - 689s 401ms/step - loss: 0.3790 - accuracy: 0.9865 - val_loss: 0.4069 - val_accuracy: 0.9867\n",
      "Epoch 10/10\n",
      "1717/1717 [==============================] - 686s 400ms/step - loss: 0.3689 - accuracy: 0.9874 - val_loss: 0.4028 - val_accuracy: 0.9875\n"
     ]
    }
   ],
   "source": [
    "history2 = model2.fit(\n",
    "    train_ohe, y_train,\n",
    "    epochs=10, batch_size=256,\n",
    "    validation_data=(val_ohe, y_val),\n",
    "    callbacks=[es]\n",
    "    )"
   ]
  },
  {
   "cell_type": "code",
   "execution_count": 101,
   "metadata": {
    "colab": {},
    "colab_type": "code",
    "id": "kK7sr-pBIR2w"
   },
   "outputs": [],
   "source": [
    "# saving model weights.\n",
    "model2.save_weights('D:/googledownload/random_split/model2/')"
   ]
  },
  {
   "cell_type": "code",
   "execution_count": 102,
   "metadata": {
    "colab": {
     "base_uri": "https://localhost:8080/",
     "height": 337
    },
    "colab_type": "code",
    "id": "4uXtCBnR2RGv",
    "outputId": "965f54fb-113b-4a9a-f4d6-024698f0f82d"
   },
   "outputs": [
    {
     "data": {
      "image/png": "[encoded data removed]",
      "text/plain": [
       "<Figure size 864x360 with 2 Axes>"
      ]
     },
     "metadata": {},
     "output_type": "display_data"
    }
   ],
   "source": [
    "plot_history(history2)"
   ]
  },
  {
   "cell_type": "code",
   "execution_count": 103,
   "metadata": {
    "colab": {
     "base_uri": "https://localhost:8080/",
     "height": 202
    },
    "colab_type": "code",
    "id": "z-T9Ula42U11",
    "outputId": "1a39a91d-68a6-4245-fcd2-b5f1818324b8"
   },
   "outputs": [
    {
     "name": "stdout",
     "output_type": "stream",
     "text": [
      "1717/1717 [==============================] - 181s 106ms/step - loss: 0.3605 - accuracy: 0.9962\n",
      "Train loss:  0.3605440557003021\n",
      "Train accuracy:  0.9962069988250732\n",
      "----------------------------------------------------------------------\n",
      "213/213 [==============================] - 22s 104ms/step - loss: 0.4028 - accuracy: 0.9875\n",
      "Val loss:  0.4028223752975464\n",
      "Val accuracy:  0.9874765276908875\n",
      "----------------------------------------------------------------------\n",
      "213/213 [==============================] - 24s 111ms/step - loss: 0.4050 - accuracy: 0.9870\n",
      "Test loss:  0.40501630306243896\n",
      "Test accuracy:  0.9870352149009705\n"
     ]
    }
   ],
   "source": [
    "display_model_score(\n",
    "    model2,\n",
    "    [train_ohe, y_train],\n",
    "    [val_ohe, y_val],\n",
    "    [test_ohe, y_test],\n",
    "    256)"
   ]
  },
  {
   "cell_type": "markdown",
   "metadata": {
    "colab_type": "text",
    "id": "3u42Zf2bLxmM"
   },
   "source": [
    "## 5. Conclusion"
   ]
  },
  {
   "cell_type": "code",
   "execution_count": 104,
   "metadata": {
    "colab": {
     "base_uri": "https://localhost:8080/",
     "height": 118
    },
    "colab_type": "code",
    "id": "MyPhPwMnL0af",
    "outputId": "68557968-a045-4171-afd1-d5bb435d793e"
   },
   "outputs": [
    {
     "name": "stdout",
     "output_type": "stream",
     "text": [
      "+-------+--------------------+-----------+---------+----------+\n",
      "| Sr.no |       Model        | Train Acc | Val Acc | Test Acc |\n",
      "+-------+--------------------+-----------+---------+----------+\n",
      "|   1.  | Bidirectional LSTM |   0.964   |  0.957  |  0.958   |\n",
      "|   2.  |      ProtCNN       |   0.996   |  0.988  |  0.988   |\n",
      "+-------+--------------------+-----------+---------+----------+\n"
     ]
    }
   ],
   "source": [
    "x = PrettyTable()\n",
    "x.field_names = ['Sr.no', 'Model', 'Train Acc', 'Val Acc','Test Acc']\n",
    "\n",
    "x.add_row(['1.', 'Bidirectional LSTM', '0.964', '0.957', '0.958'])\n",
    "x.add_row(['2.', 'ProtCNN', '0.996', '0.988', '0.988'])\n",
    "\n",
    "print(x)"
   ]
  },
  {
   "cell_type": "markdown",
   "metadata": {
    "colab_type": "text",
    "id": "OY0HAjgRQwii"
   },
   "source": [
    "### Reference:\n",
    "\n",
    "- https://www.biorxiv.org/content/10.1101/626507v4.full"
   ]
  }
 ],
 "metadata": {
  "accelerator": "GPU",
  "colab": {
   "collapsed_sections": [
    "y_dDnHNus7SL",
    "KmJ2E-Krs_xt",
    "jtyg15A6ATsS",
    "ylHPrtMlBvyB",
    "xdkPtpHiB45Y",
    "CUfCZp0ICwaF",
    "GCPrxSoI5jQZ",
    "lqRU2FBxezKq",
    "sRXFL8RwlZGZ",
    "7XvpRxecd_B1",
    "LFxzvA1oeJGm",
    "08mVHtLVfCmp",
    "LHh3AXwNp7Yv"
   ],
   "machine_shape": "hm",
   "name": "Copy of Pfam_protein_sequence_classification.ipynb",
   "provenance": []
  },
  "kernelspec": {
   "display_name": "Python 3",
   "language": "python",
   "name": "python3"
  },
  "language_info": {
   "codemirror_mode": {
    "name": "ipython",
    "version": 3
   },
   "file_extension": ".py",
   "mimetype": "text/x-python",
   "name": "python",
   "nbconvert_exporter": "python",
   "pygments_lexer": "ipython3",
   "version": "3.8.5"
  }
 },
 "nbformat": 4,
 "nbformat_minor": 1
}
